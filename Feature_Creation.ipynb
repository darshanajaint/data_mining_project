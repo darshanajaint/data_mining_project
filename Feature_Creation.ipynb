{
 "cells": [
  {
   "cell_type": "markdown",
   "metadata": {},
   "source": [
    "# Import Necessary Libraries"
   ]
  },
  {
   "cell_type": "code",
   "execution_count": 86,
   "metadata": {},
   "outputs": [],
   "source": [
    "import pandas as pd\n",
    "from vaderSentiment.vaderSentiment import SentimentIntensityAnalyzer\n",
    "from ast import literal_eval\n",
    "from sklearn.preprocessing import LabelEncoder, MinMaxScaler, Normalizer\n",
    "from sklearn.compose import ColumnTransformer\n",
    "from sklearn.feature_extraction.text import CountVectorizer\n",
    "from sklearn.pipeline import Pipeline, FeatureUnion\n",
    "from sklearn.feature_extraction.text import TfidfTransformer\n",
    "from sklearn.model_selection import GridSearchCV, train_test_split\n",
    "from sklearn.linear_model import SGDClassifier\n",
    "from sklearn.compose import make_column_transformer\n",
    "import pickle\n",
    "from joblib import dump, load\n",
    "import matplotlib.pyplot as plt\n",
    "import numpy as np\n",
    "import sklearn.metrics\n",
    "from sklearn.metrics import ConfusionMatrixDisplay\n",
    "%matplotlib inline"
   ]
  },
  {
   "cell_type": "markdown",
   "metadata": {},
   "source": [
    "# Load Dataset\n",
    "\n",
    "### Todo:  Load processed tweets df and use processed tweets column"
   ]
  },
  {
   "cell_type": "code",
   "execution_count": 4,
   "metadata": {},
   "outputs": [
    {
     "data": {
      "text/html": [
       "<div>\n",
       "<style scoped>\n",
       "    .dataframe tbody tr th:only-of-type {\n",
       "        vertical-align: middle;\n",
       "    }\n",
       "\n",
       "    .dataframe tbody tr th {\n",
       "        vertical-align: top;\n",
       "    }\n",
       "\n",
       "    .dataframe thead th {\n",
       "        text-align: right;\n",
       "    }\n",
       "</style>\n",
       "<table border=\"1\" class=\"dataframe\">\n",
       "  <thead>\n",
       "    <tr style=\"text-align: right;\">\n",
       "      <th></th>\n",
       "      <th>State</th>\n",
       "      <th>Senator</th>\n",
       "      <th>Party</th>\n",
       "      <th>Multiple</th>\n",
       "      <th>Twitter Handle</th>\n",
       "      <th>Twitter Link</th>\n",
       "      <th>date</th>\n",
       "      <th>tweet</th>\n",
       "      <th>hashtags</th>\n",
       "      <th>link</th>\n",
       "      <th>urls</th>\n",
       "    </tr>\n",
       "  </thead>\n",
       "  <tbody>\n",
       "    <tr>\n",
       "      <th>0</th>\n",
       "      <td>Alabama</td>\n",
       "      <td>Richard Shelby</td>\n",
       "      <td>Republican</td>\n",
       "      <td>0</td>\n",
       "      <td>SenShelby</td>\n",
       "      <td>https://twitter.com/SenShelby</td>\n",
       "      <td>2021-03-10 10:54:50</td>\n",
       "      <td>I look forward to working with the Consortium,...</td>\n",
       "      <td>[]</td>\n",
       "      <td>https://twitter.com/SenShelby/status/136967813...</td>\n",
       "      <td>[]</td>\n",
       "    </tr>\n",
       "    <tr>\n",
       "      <th>1</th>\n",
       "      <td>Alabama</td>\n",
       "      <td>Richard Shelby</td>\n",
       "      <td>Republican</td>\n",
       "      <td>0</td>\n",
       "      <td>SenShelby</td>\n",
       "      <td>https://twitter.com/SenShelby</td>\n",
       "      <td>2021-03-10 10:54:13</td>\n",
       "      <td>Pleased to announce that an AL Consortium has ...</td>\n",
       "      <td>[]</td>\n",
       "      <td>https://twitter.com/SenShelby/status/136967798...</td>\n",
       "      <td>['https://www.shelby.senate.gov/public/index.c...</td>\n",
       "    </tr>\n",
       "    <tr>\n",
       "      <th>2</th>\n",
       "      <td>Alabama</td>\n",
       "      <td>Richard Shelby</td>\n",
       "      <td>Republican</td>\n",
       "      <td>0</td>\n",
       "      <td>SenShelby</td>\n",
       "      <td>https://twitter.com/SenShelby</td>\n",
       "      <td>2021-03-09 17:06:05</td>\n",
       "      <td>Pleased with the progress at the Port of Mobil...</td>\n",
       "      <td>[alabama]</td>\n",
       "      <td>https://twitter.com/SenShelby/status/136940917...</td>\n",
       "      <td>[]</td>\n",
       "    </tr>\n",
       "    <tr>\n",
       "      <th>3</th>\n",
       "      <td>Alabama</td>\n",
       "      <td>Richard Shelby</td>\n",
       "      <td>Republican</td>\n",
       "      <td>0</td>\n",
       "      <td>SenShelby</td>\n",
       "      <td>https://twitter.com/SenShelby</td>\n",
       "      <td>2021-03-06 12:57:31</td>\n",
       "      <td>I am disappointed that we were blocked at ever...</td>\n",
       "      <td>[]</td>\n",
       "      <td>https://twitter.com/SenShelby/status/136825946...</td>\n",
       "      <td>['https://www.shelby.senate.gov/public/index.c...</td>\n",
       "    </tr>\n",
       "    <tr>\n",
       "      <th>4</th>\n",
       "      <td>Alabama</td>\n",
       "      <td>Richard Shelby</td>\n",
       "      <td>Republican</td>\n",
       "      <td>0</td>\n",
       "      <td>SenShelby</td>\n",
       "      <td>https://twitter.com/SenShelby</td>\n",
       "      <td>2021-03-06 12:56:38</td>\n",
       "      <td>The bill does nothing to get kids back in clas...</td>\n",
       "      <td>[]</td>\n",
       "      <td>https://twitter.com/SenShelby/status/136825924...</td>\n",
       "      <td>[]</td>\n",
       "    </tr>\n",
       "  </tbody>\n",
       "</table>\n",
       "</div>"
      ],
      "text/plain": [
       "     State         Senator       Party  Multiple Twitter Handle  \\\n",
       "0  Alabama  Richard Shelby  Republican         0      SenShelby   \n",
       "1  Alabama  Richard Shelby  Republican         0      SenShelby   \n",
       "2  Alabama  Richard Shelby  Republican         0      SenShelby   \n",
       "3  Alabama  Richard Shelby  Republican         0      SenShelby   \n",
       "4  Alabama  Richard Shelby  Republican         0      SenShelby   \n",
       "\n",
       "                    Twitter Link                 date  \\\n",
       "0  https://twitter.com/SenShelby  2021-03-10 10:54:50   \n",
       "1  https://twitter.com/SenShelby  2021-03-10 10:54:13   \n",
       "2  https://twitter.com/SenShelby  2021-03-09 17:06:05   \n",
       "3  https://twitter.com/SenShelby  2021-03-06 12:57:31   \n",
       "4  https://twitter.com/SenShelby  2021-03-06 12:56:38   \n",
       "\n",
       "                                               tweet   hashtags  \\\n",
       "0  I look forward to working with the Consortium,...         []   \n",
       "1  Pleased to announce that an AL Consortium has ...         []   \n",
       "2  Pleased with the progress at the Port of Mobil...  [alabama]   \n",
       "3  I am disappointed that we were blocked at ever...         []   \n",
       "4  The bill does nothing to get kids back in clas...         []   \n",
       "\n",
       "                                                link  \\\n",
       "0  https://twitter.com/SenShelby/status/136967813...   \n",
       "1  https://twitter.com/SenShelby/status/136967798...   \n",
       "2  https://twitter.com/SenShelby/status/136940917...   \n",
       "3  https://twitter.com/SenShelby/status/136825946...   \n",
       "4  https://twitter.com/SenShelby/status/136825924...   \n",
       "\n",
       "                                                urls  \n",
       "0                                                 []  \n",
       "1  ['https://www.shelby.senate.gov/public/index.c...  \n",
       "2                                                 []  \n",
       "3  ['https://www.shelby.senate.gov/public/index.c...  \n",
       "4                                                 []  "
      ]
     },
     "execution_count": 4,
     "metadata": {},
     "output_type": "execute_result"
    }
   ],
   "source": [
    "tweets_df = pd.read_csv(\"./raw_tweets.csv\", converters={\"hashtags\": literal_eval})\n",
    "tweets_df.head()"
   ]
  },
  {
   "cell_type": "markdown",
   "metadata": {},
   "source": [
    "# Replace Indpendents with Democrats "
   ]
  },
  {
   "cell_type": "code",
   "execution_count": 5,
   "metadata": {},
   "outputs": [],
   "source": [
    "tweets_df.loc[tweets_df.Party == \"Independent\", \"Party\"] = \"Democrat\""
   ]
  },
  {
   "cell_type": "code",
   "execution_count": 6,
   "metadata": {},
   "outputs": [
    {
     "data": {
      "text/plain": [
       "Democrat      74579\n",
       "Republican    54670\n",
       "Name: Party, dtype: int64"
      ]
     },
     "execution_count": 6,
     "metadata": {},
     "output_type": "execute_result"
    }
   ],
   "source": [
    "tweets_df[\"Party\"].value_counts()"
   ]
  },
  {
   "cell_type": "markdown",
   "metadata": {},
   "source": [
    "# Get Sentiment Scores for Each Tweet and Save Results"
   ]
  },
  {
   "cell_type": "code",
   "execution_count": 10,
   "metadata": {},
   "outputs": [],
   "source": [
    "def get_sentiments(df):\n",
    "    tweet = df[\"tweet\"]\n",
    "    analyzer = SentimentIntensityAnalyzer()\n",
    "    vs = analyzer.polarity_scores(tweet)\n",
    "    df[\"neg\"] = vs[\"neg\"]\n",
    "    df[\"neu\"] = vs[\"neu\"]\n",
    "    df[\"pos\"] = vs[\"pos\"]\n",
    "    df[\"compound\"] = vs[\"compound\"]\n",
    "    return df"
   ]
  },
  {
   "cell_type": "code",
   "execution_count": 11,
   "metadata": {},
   "outputs": [
    {
     "data": {
      "text/html": [
       "<div>\n",
       "<style scoped>\n",
       "    .dataframe tbody tr th:only-of-type {\n",
       "        vertical-align: middle;\n",
       "    }\n",
       "\n",
       "    .dataframe tbody tr th {\n",
       "        vertical-align: top;\n",
       "    }\n",
       "\n",
       "    .dataframe thead th {\n",
       "        text-align: right;\n",
       "    }\n",
       "</style>\n",
       "<table border=\"1\" class=\"dataframe\">\n",
       "  <thead>\n",
       "    <tr style=\"text-align: right;\">\n",
       "      <th></th>\n",
       "      <th>State</th>\n",
       "      <th>Senator</th>\n",
       "      <th>Party</th>\n",
       "      <th>Multiple</th>\n",
       "      <th>Twitter Handle</th>\n",
       "      <th>Twitter Link</th>\n",
       "      <th>date</th>\n",
       "      <th>tweet</th>\n",
       "      <th>hashtags</th>\n",
       "      <th>link</th>\n",
       "      <th>urls</th>\n",
       "      <th>neg</th>\n",
       "      <th>neu</th>\n",
       "      <th>pos</th>\n",
       "      <th>compound</th>\n",
       "    </tr>\n",
       "  </thead>\n",
       "  <tbody>\n",
       "    <tr>\n",
       "      <th>0</th>\n",
       "      <td>Alabama</td>\n",
       "      <td>Richard Shelby</td>\n",
       "      <td>Republican</td>\n",
       "      <td>0</td>\n",
       "      <td>SenShelby</td>\n",
       "      <td>https://twitter.com/SenShelby</td>\n",
       "      <td>2021-03-10 10:54:50</td>\n",
       "      <td>I look forward to working with the Consortium,...</td>\n",
       "      <td>[]</td>\n",
       "      <td>https://twitter.com/SenShelby/status/136967813...</td>\n",
       "      <td>[]</td>\n",
       "      <td>0.000</td>\n",
       "      <td>0.812</td>\n",
       "      <td>0.188</td>\n",
       "      <td>0.7351</td>\n",
       "    </tr>\n",
       "    <tr>\n",
       "      <th>1</th>\n",
       "      <td>Alabama</td>\n",
       "      <td>Richard Shelby</td>\n",
       "      <td>Republican</td>\n",
       "      <td>0</td>\n",
       "      <td>SenShelby</td>\n",
       "      <td>https://twitter.com/SenShelby</td>\n",
       "      <td>2021-03-10 10:54:13</td>\n",
       "      <td>Pleased to announce that an AL Consortium has ...</td>\n",
       "      <td>[]</td>\n",
       "      <td>https://twitter.com/SenShelby/status/136967798...</td>\n",
       "      <td>['https://www.shelby.senate.gov/public/index.c...</td>\n",
       "      <td>0.000</td>\n",
       "      <td>0.676</td>\n",
       "      <td>0.324</td>\n",
       "      <td>0.9360</td>\n",
       "    </tr>\n",
       "    <tr>\n",
       "      <th>2</th>\n",
       "      <td>Alabama</td>\n",
       "      <td>Richard Shelby</td>\n",
       "      <td>Republican</td>\n",
       "      <td>0</td>\n",
       "      <td>SenShelby</td>\n",
       "      <td>https://twitter.com/SenShelby</td>\n",
       "      <td>2021-03-09 17:06:05</td>\n",
       "      <td>Pleased with the progress at the Port of Mobil...</td>\n",
       "      <td>[alabama]</td>\n",
       "      <td>https://twitter.com/SenShelby/status/136940917...</td>\n",
       "      <td>[]</td>\n",
       "      <td>0.000</td>\n",
       "      <td>0.709</td>\n",
       "      <td>0.291</td>\n",
       "      <td>0.8934</td>\n",
       "    </tr>\n",
       "    <tr>\n",
       "      <th>3</th>\n",
       "      <td>Alabama</td>\n",
       "      <td>Richard Shelby</td>\n",
       "      <td>Republican</td>\n",
       "      <td>0</td>\n",
       "      <td>SenShelby</td>\n",
       "      <td>https://twitter.com/SenShelby</td>\n",
       "      <td>2021-03-06 12:57:31</td>\n",
       "      <td>I am disappointed that we were blocked at ever...</td>\n",
       "      <td>[]</td>\n",
       "      <td>https://twitter.com/SenShelby/status/136825946...</td>\n",
       "      <td>['https://www.shelby.senate.gov/public/index.c...</td>\n",
       "      <td>0.129</td>\n",
       "      <td>0.672</td>\n",
       "      <td>0.199</td>\n",
       "      <td>0.4215</td>\n",
       "    </tr>\n",
       "    <tr>\n",
       "      <th>4</th>\n",
       "      <td>Alabama</td>\n",
       "      <td>Richard Shelby</td>\n",
       "      <td>Republican</td>\n",
       "      <td>0</td>\n",
       "      <td>SenShelby</td>\n",
       "      <td>https://twitter.com/SenShelby</td>\n",
       "      <td>2021-03-06 12:56:38</td>\n",
       "      <td>The bill does nothing to get kids back in clas...</td>\n",
       "      <td>[]</td>\n",
       "      <td>https://twitter.com/SenShelby/status/136825924...</td>\n",
       "      <td>[]</td>\n",
       "      <td>0.150</td>\n",
       "      <td>0.850</td>\n",
       "      <td>0.000</td>\n",
       "      <td>-0.5267</td>\n",
       "    </tr>\n",
       "  </tbody>\n",
       "</table>\n",
       "</div>"
      ],
      "text/plain": [
       "     State         Senator       Party  Multiple Twitter Handle  \\\n",
       "0  Alabama  Richard Shelby  Republican         0      SenShelby   \n",
       "1  Alabama  Richard Shelby  Republican         0      SenShelby   \n",
       "2  Alabama  Richard Shelby  Republican         0      SenShelby   \n",
       "3  Alabama  Richard Shelby  Republican         0      SenShelby   \n",
       "4  Alabama  Richard Shelby  Republican         0      SenShelby   \n",
       "\n",
       "                    Twitter Link                 date  \\\n",
       "0  https://twitter.com/SenShelby  2021-03-10 10:54:50   \n",
       "1  https://twitter.com/SenShelby  2021-03-10 10:54:13   \n",
       "2  https://twitter.com/SenShelby  2021-03-09 17:06:05   \n",
       "3  https://twitter.com/SenShelby  2021-03-06 12:57:31   \n",
       "4  https://twitter.com/SenShelby  2021-03-06 12:56:38   \n",
       "\n",
       "                                               tweet   hashtags  \\\n",
       "0  I look forward to working with the Consortium,...         []   \n",
       "1  Pleased to announce that an AL Consortium has ...         []   \n",
       "2  Pleased with the progress at the Port of Mobil...  [alabama]   \n",
       "3  I am disappointed that we were blocked at ever...         []   \n",
       "4  The bill does nothing to get kids back in clas...         []   \n",
       "\n",
       "                                                link  \\\n",
       "0  https://twitter.com/SenShelby/status/136967813...   \n",
       "1  https://twitter.com/SenShelby/status/136967798...   \n",
       "2  https://twitter.com/SenShelby/status/136940917...   \n",
       "3  https://twitter.com/SenShelby/status/136825946...   \n",
       "4  https://twitter.com/SenShelby/status/136825924...   \n",
       "\n",
       "                                                urls    neg    neu    pos  \\\n",
       "0                                                 []  0.000  0.812  0.188   \n",
       "1  ['https://www.shelby.senate.gov/public/index.c...  0.000  0.676  0.324   \n",
       "2                                                 []  0.000  0.709  0.291   \n",
       "3  ['https://www.shelby.senate.gov/public/index.c...  0.129  0.672  0.199   \n",
       "4                                                 []  0.150  0.850  0.000   \n",
       "\n",
       "   compound  \n",
       "0    0.7351  \n",
       "1    0.9360  \n",
       "2    0.8934  \n",
       "3    0.4215  \n",
       "4   -0.5267  "
      ]
     },
     "execution_count": 11,
     "metadata": {},
     "output_type": "execute_result"
    }
   ],
   "source": [
    "tweets_df = tweets_df.apply(get_sentiments, axis=1)\n",
    "tweets_df.head()"
   ]
  },
  {
   "cell_type": "code",
   "execution_count": 12,
   "metadata": {},
   "outputs": [],
   "source": [
    "tweets_df.to_csv(\"./tweets_with_sentiment.csv\")"
   ]
  },
  {
   "cell_type": "markdown",
   "metadata": {},
   "source": [
    "# Split Into Training and Testing and Encode Targets"
   ]
  },
  {
   "cell_type": "code",
   "execution_count": 13,
   "metadata": {},
   "outputs": [
    {
     "data": {
      "text/html": [
       "<div>\n",
       "<style scoped>\n",
       "    .dataframe tbody tr th:only-of-type {\n",
       "        vertical-align: middle;\n",
       "    }\n",
       "\n",
       "    .dataframe tbody tr th {\n",
       "        vertical-align: top;\n",
       "    }\n",
       "\n",
       "    .dataframe thead th {\n",
       "        text-align: right;\n",
       "    }\n",
       "</style>\n",
       "<table border=\"1\" class=\"dataframe\">\n",
       "  <thead>\n",
       "    <tr style=\"text-align: right;\">\n",
       "      <th></th>\n",
       "      <th>tweet</th>\n",
       "      <th>neg</th>\n",
       "      <th>neu</th>\n",
       "      <th>pos</th>\n",
       "      <th>compound</th>\n",
       "    </tr>\n",
       "  </thead>\n",
       "  <tbody>\n",
       "    <tr>\n",
       "      <th>0</th>\n",
       "      <td>I look forward to working with the Consortium,...</td>\n",
       "      <td>0.000</td>\n",
       "      <td>0.812</td>\n",
       "      <td>0.188</td>\n",
       "      <td>0.7351</td>\n",
       "    </tr>\n",
       "    <tr>\n",
       "      <th>1</th>\n",
       "      <td>Pleased to announce that an AL Consortium has ...</td>\n",
       "      <td>0.000</td>\n",
       "      <td>0.676</td>\n",
       "      <td>0.324</td>\n",
       "      <td>0.9360</td>\n",
       "    </tr>\n",
       "    <tr>\n",
       "      <th>2</th>\n",
       "      <td>Pleased with the progress at the Port of Mobil...</td>\n",
       "      <td>0.000</td>\n",
       "      <td>0.709</td>\n",
       "      <td>0.291</td>\n",
       "      <td>0.8934</td>\n",
       "    </tr>\n",
       "    <tr>\n",
       "      <th>3</th>\n",
       "      <td>I am disappointed that we were blocked at ever...</td>\n",
       "      <td>0.129</td>\n",
       "      <td>0.672</td>\n",
       "      <td>0.199</td>\n",
       "      <td>0.4215</td>\n",
       "    </tr>\n",
       "    <tr>\n",
       "      <th>4</th>\n",
       "      <td>The bill does nothing to get kids back in clas...</td>\n",
       "      <td>0.150</td>\n",
       "      <td>0.850</td>\n",
       "      <td>0.000</td>\n",
       "      <td>-0.5267</td>\n",
       "    </tr>\n",
       "  </tbody>\n",
       "</table>\n",
       "</div>"
      ],
      "text/plain": [
       "                                               tweet    neg    neu    pos  \\\n",
       "0  I look forward to working with the Consortium,...  0.000  0.812  0.188   \n",
       "1  Pleased to announce that an AL Consortium has ...  0.000  0.676  0.324   \n",
       "2  Pleased with the progress at the Port of Mobil...  0.000  0.709  0.291   \n",
       "3  I am disappointed that we were blocked at ever...  0.129  0.672  0.199   \n",
       "4  The bill does nothing to get kids back in clas...  0.150  0.850  0.000   \n",
       "\n",
       "   compound  \n",
       "0    0.7351  \n",
       "1    0.9360  \n",
       "2    0.8934  \n",
       "3    0.4215  \n",
       "4   -0.5267  "
      ]
     },
     "execution_count": 13,
     "metadata": {},
     "output_type": "execute_result"
    }
   ],
   "source": [
    "X = tweets_df[[\"tweet\", \"neg\", \"neu\", \"pos\", \"compound\"]]\n",
    "X.head()"
   ]
  },
  {
   "cell_type": "code",
   "execution_count": 14,
   "metadata": {},
   "outputs": [
    {
     "data": {
      "text/plain": [
       "0    Republican\n",
       "1    Republican\n",
       "2    Republican\n",
       "3    Republican\n",
       "4    Republican\n",
       "Name: Party, dtype: object"
      ]
     },
     "execution_count": 14,
     "metadata": {},
     "output_type": "execute_result"
    }
   ],
   "source": [
    "y = tweets_df[\"Party\"]\n",
    "y.head()"
   ]
  },
  {
   "cell_type": "code",
   "execution_count": 76,
   "metadata": {},
   "outputs": [
    {
     "data": {
      "text/plain": [
       "array(['Democrat', 'Republican'], dtype=object)"
      ]
     },
     "execution_count": 76,
     "metadata": {},
     "output_type": "execute_result"
    }
   ],
   "source": [
    "le = LabelEncoder()\n",
    "y = le.fit_transform(y)\n",
    "le.inverse_transform([0, 1])"
   ]
  },
  {
   "cell_type": "code",
   "execution_count": 77,
   "metadata": {},
   "outputs": [],
   "source": [
    "X_train, X_test, y_train, y_test = train_test_split(X, y, test_size=0.2, random_state=42)"
   ]
  },
  {
   "cell_type": "markdown",
   "metadata": {},
   "source": [
    "# Create Pipelines\n",
    "In the preprocessing pipeline below, we scale all numerical features (the four sentiment scores) to lie in the 0 to 1 range. Then we take the cleaned tweet text feature, and perform CountVectorizer and TfidfTransformer to get a numerical vector of features and then we normalize this vector. All of these transformations are applied to the appropriate columns and the result becomes the new features we feed into our model.\n",
    "\n",
    "The clf pipeline two cells down combines the preprocessor pipeline with a classifier model, specifically SGDClassifier. Then GridSearchCV is run on the clf pipeline with different parameters to be searched and the best parameters and accuracy score are printed."
   ]
  },
  {
   "cell_type": "code",
   "execution_count": 78,
   "metadata": {},
   "outputs": [],
   "source": [
    "# https://scikit-learn.org/stable/auto_examples/compose/plot_column_transformer_mixed_types.html#sphx-glr-auto-examples-compose-plot-column-transformer-mixed-types-py\n",
    "# https://scikit-learn.org/stable/tutorial/text_analytics/working_with_text_data.html\n",
    "#https://webcache.googleusercontent.com/search?q=cache:jfbAd7R40V8J:https://www.tutorialguruji.com/python/transfomers-for-mixed-data-types/+&cd=7&hl=en&ct=clnk&gl=us\n",
    "numeric_features = [\"neg\", \"neu\", \"pos\", \"compound\"]\n",
    "numeric_transformer = MinMaxScaler()\n",
    "\n",
    "text_transformer = Pipeline(steps=[\n",
    "    (\"vect\", CountVectorizer()),\n",
    "    (\"tfidf\", TfidfTransformer()),\n",
    "    (\"norm\", Normalizer())\n",
    "])\n",
    "\n",
    "numeric_transformers = [(x + '_scaler', numeric_transformer, [x]) for x in numeric_features]\n",
    " \n",
    "all_transformers = numeric_transformers + [(\"text\", text_transformer, \"tweet\")] \n",
    "preprocessor = ColumnTransformer(transformers=all_transformers)\n"
   ]
  },
  {
   "cell_type": "code",
   "execution_count": 81,
   "metadata": {},
   "outputs": [
    {
     "name": "stdout",
     "output_type": "stream",
     "text": [
      "0.6941199226305609\n",
      "clf__alpha: 0.001\n",
      "preprocessor__text__tfidf__use_idf: False\n",
      "preprocessor__text__vect__ngram_range: (1, 1)\n"
     ]
    }
   ],
   "source": [
    "# https://scikit-learn.org/stable/tutorial/text_analytics/working_with_text_data.html\n",
    "clf = Pipeline([\n",
    "    (\"preprocessor\", preprocessor),\n",
    "    ('clf', SGDClassifier(loss='hinge', penalty='l2',\n",
    "                           alpha=1e-3, random_state=42,\n",
    "                           max_iter=5, tol=None))\n",
    "])\n",
    "\n",
    "parameters = {\n",
    "     'preprocessor__text__vect__ngram_range': [(1, 1), (1, 2)],\n",
    "     'preprocessor__text__tfidf__use_idf': (True, False),\n",
    "     'clf__alpha': (1e-2, 1e-3),\n",
    "}\n",
    "\n",
    "gs_clf = GridSearchCV(clf, parameters, cv=10, n_jobs=-1)\n",
    "gs_clf = gs_clf.fit(X_train, y_train)\n",
    "print(gs_clf.score(X_test, y_test))\n",
    "for param_name in sorted(parameters.keys()):\n",
    "     print(\"%s: %r\" % (param_name, gs_clf.best_params_[param_name]))\n",
    "    "
   ]
  },
  {
   "cell_type": "markdown",
   "metadata": {},
   "source": [
    "Save model"
   ]
  },
  {
   "cell_type": "code",
   "execution_count": 84,
   "metadata": {},
   "outputs": [
    {
     "data": {
      "text/plain": [
       "['./sgd_clf.joblib']"
      ]
     },
     "execution_count": 84,
     "metadata": {},
     "output_type": "execute_result"
    }
   ],
   "source": [
    "dump(gs_clf, \"./sgd_clf.joblib\")"
   ]
  },
  {
   "cell_type": "markdown",
   "metadata": {},
   "source": [
    "# Model Evaluation"
   ]
  },
  {
   "cell_type": "code",
   "execution_count": 111,
   "metadata": {},
   "outputs": [],
   "source": [
    "# https://stackoverflow.com/questions/59165149/plot-confusion-matrix-with-scikit-learn-without-a-classifier\n",
    "def get_stats(y_test, y_pred):\n",
    "    accuracy = sklearn.metrics.accuracy_score(y_test, y_pred)\n",
    "    precision = sklearn.metrics.precision_score(y_test, y_pred)\n",
    "    recall =  sklearn.metrics.recall_score(y_test, y_pred)\n",
    "    f1 =  sklearn.metrics.f1_score(y_test, y_pred)\n",
    "    \n",
    "    print(\"accuracy: \", round(accuracy, 2))\n",
    "    print(\"precision: \", round(precision, 2))\n",
    "    print(\"recall: \", round(recall, 2))\n",
    "    print(\"f1 score: \", round(f1, 2), \"\\n\")\n",
    "    \n",
    "    print(\"classification report\")\n",
    "    print(sklearn.metrics.classification_report(y_test, y_pred))\n",
    "    \n",
    "    cm = sklearn.metrics.confusion_matrix(y_test, y_pred)\n",
    "    disp = ConfusionMatrixDisplay(confusion_matrix=cm, display_labels=le.inverse_transform([0, 1]))\n",
    "    disp = disp.plot(include_values=True, cmap=\"Blues\", values_format=\".7g\")\n",
    "    plt.show()"
   ]
  },
  {
   "cell_type": "code",
   "execution_count": 112,
   "metadata": {},
   "outputs": [
    {
     "name": "stdout",
     "output_type": "stream",
     "text": [
      "accuracy:  0.69\n",
      "precision:  0.75\n",
      "recall:  0.4\n",
      "f1 score:  0.52 \n",
      "\n",
      "classification report\n",
      "              precision    recall  f1-score   support\n",
      "\n",
      "           0       0.68      0.90      0.77     15026\n",
      "           1       0.75      0.40      0.52     10824\n",
      "\n",
      "    accuracy                           0.69     25850\n",
      "   macro avg       0.71      0.65      0.65     25850\n",
      "weighted avg       0.71      0.69      0.67     25850\n",
      "\n"
     ]
    },
    {
     "data": {
      "image/png": "[encoded data removed]",
      "text/plain": [
       "<Figure size 432x288 with 2 Axes>"
      ]
     },
     "metadata": {
      "needs_background": "light"
     },
     "output_type": "display_data"
    }
   ],
   "source": [
    "y_pred = gs_clf.predict(X_test)\n",
    "get_stats(y_test, y_pred)"
   ]
  },
  {
   "cell_type": "code",
   "execution_count": null,
   "metadata": {},
   "outputs": [],
   "source": []
  }
 ],
 "metadata": {
  "kernelspec": {
   "display_name": "Python 3",
   "language": "python",
   "name": "python3"
  },
  "language_info": {
   "codemirror_mode": {
    "name": "ipython",
    "version": 3
   },
   "file_extension": ".py",
   "mimetype": "text/x-python",
   "name": "python",
   "nbconvert_exporter": "python",
   "pygments_lexer": "ipython3",
   "version": "3.7.6"
  }
 },
 "nbformat": 4,
 "nbformat_minor": 4
}
