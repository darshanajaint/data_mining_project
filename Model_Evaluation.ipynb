{
 "cells": [
  {
   "cell_type": "code",
   "execution_count": 25,
   "metadata": {},
   "outputs": [],
   "source": [
    "from joblib import load\n",
    "from sklearn.model_selection import train_test_split\n",
    "import matplotlib.pyplot as plt\n",
    "from ast import literal_eval\n",
    "from sklearn.preprocessing import LabelEncoder, MinMaxScaler, Normalizer\n",
    "from sklearn.compose import ColumnTransformer\n",
    "from sklearn.feature_extraction.text import CountVectorizer\n",
    "from sklearn.pipeline import Pipeline, FeatureUnion\n",
    "from sklearn.feature_extraction.text import TfidfTransformer\n",
    "from sklearn.model_selection import GridSearchCV, train_test_split\n",
    "import numpy as np\n",
    "import sklearn.metrics\n",
    "import pandas as pd\n",
    "from sklearn.compose import make_column_transformer\n",
    "from sklearn.metrics import ConfusionMatrixDisplay, PrecisionRecallDisplay, RocCurveDisplay\n",
    "from sklearn import metrics\n",
    "%matplotlib inline"
   ]
  },
  {
   "cell_type": "code",
   "execution_count": 8,
   "metadata": {},
   "outputs": [
    {
     "data": {
      "text/html": [
       "<div>\n",
       "<style scoped>\n",
       "    .dataframe tbody tr th:only-of-type {\n",
       "        vertical-align: middle;\n",
       "    }\n",
       "\n",
       "    .dataframe tbody tr th {\n",
       "        vertical-align: top;\n",
       "    }\n",
       "\n",
       "    .dataframe thead th {\n",
       "        text-align: right;\n",
       "    }\n",
       "</style>\n",
       "<table border=\"1\" class=\"dataframe\">\n",
       "  <thead>\n",
       "    <tr style=\"text-align: right;\">\n",
       "      <th></th>\n",
       "      <th>True Labels</th>\n",
       "      <th>Predicted Class</th>\n",
       "      <th>Probability</th>\n",
       "    </tr>\n",
       "  </thead>\n",
       "  <tbody>\n",
       "    <tr>\n",
       "      <th>0</th>\n",
       "      <td>1.0</td>\n",
       "      <td>0.0</td>\n",
       "      <td>0.301167</td>\n",
       "    </tr>\n",
       "    <tr>\n",
       "      <th>1</th>\n",
       "      <td>1.0</td>\n",
       "      <td>1.0</td>\n",
       "      <td>0.540249</td>\n",
       "    </tr>\n",
       "    <tr>\n",
       "      <th>2</th>\n",
       "      <td>0.0</td>\n",
       "      <td>0.0</td>\n",
       "      <td>0.343215</td>\n",
       "    </tr>\n",
       "    <tr>\n",
       "      <th>3</th>\n",
       "      <td>0.0</td>\n",
       "      <td>1.0</td>\n",
       "      <td>0.511462</td>\n",
       "    </tr>\n",
       "    <tr>\n",
       "      <th>4</th>\n",
       "      <td>0.0</td>\n",
       "      <td>0.0</td>\n",
       "      <td>0.480058</td>\n",
       "    </tr>\n",
       "  </tbody>\n",
       "</table>\n",
       "</div>"
      ],
      "text/plain": [
       "   True Labels  Predicted Class  Probability\n",
       "0          1.0              0.0     0.301167\n",
       "1          1.0              1.0     0.540249\n",
       "2          0.0              0.0     0.343215\n",
       "3          0.0              1.0     0.511462\n",
       "4          0.0              0.0     0.480058"
      ]
     },
     "execution_count": 8,
     "metadata": {},
     "output_type": "execute_result"
    }
   ],
   "source": [
    "pytorch_df = pd.read_csv(\"./predictions_250.csv\")\n",
    "pytorch_df.head()"
   ]
  },
  {
   "cell_type": "markdown",
   "metadata": {},
   "source": [
    "# Load Test Data"
   ]
  },
  {
   "cell_type": "code",
   "execution_count": 12,
   "metadata": {},
   "outputs": [
    {
     "data": {
      "text/html": [
       "<div>\n",
       "<style scoped>\n",
       "    .dataframe tbody tr th:only-of-type {\n",
       "        vertical-align: middle;\n",
       "    }\n",
       "\n",
       "    .dataframe tbody tr th {\n",
       "        vertical-align: top;\n",
       "    }\n",
       "\n",
       "    .dataframe thead th {\n",
       "        text-align: right;\n",
       "    }\n",
       "</style>\n",
       "<table border=\"1\" class=\"dataframe\">\n",
       "  <thead>\n",
       "    <tr style=\"text-align: right;\">\n",
       "      <th></th>\n",
       "      <th>State</th>\n",
       "      <th>Senator</th>\n",
       "      <th>Party</th>\n",
       "      <th>Multiple</th>\n",
       "      <th>Twitter Handle</th>\n",
       "      <th>Twitter Link</th>\n",
       "      <th>date</th>\n",
       "      <th>tweet</th>\n",
       "      <th>hashtags</th>\n",
       "      <th>link</th>\n",
       "      <th>urls</th>\n",
       "      <th>tidy_tweet</th>\n",
       "      <th>tokens</th>\n",
       "      <th>stemmed</th>\n",
       "      <th>neg</th>\n",
       "      <th>neu</th>\n",
       "      <th>pos</th>\n",
       "      <th>compound</th>\n",
       "    </tr>\n",
       "  </thead>\n",
       "  <tbody>\n",
       "    <tr>\n",
       "      <th>0</th>\n",
       "      <td>Michigan</td>\n",
       "      <td>Gary Peters</td>\n",
       "      <td>Democrat</td>\n",
       "      <td>0</td>\n",
       "      <td>SenGaryPeters</td>\n",
       "      <td>https://twitter.com/SenGaryPeters</td>\n",
       "      <td>2020-02-06 12:07:30</td>\n",
       "      <td>Welcome back, Grand Rapids native &amp;amp; @NASA ...</td>\n",
       "      <td>[]</td>\n",
       "      <td>https://twitter.com/SenGaryPeters/status/12254...</td>\n",
       "      <td>['https://www.woodtv.com/news/kent-county/gr-n...</td>\n",
       "      <td>welcome back  grand rapids native astronaut pr...</td>\n",
       "      <td>['welcome', 'back', 'grand', 'rapids', 'native...</td>\n",
       "      <td>welcom back grand rapid nativ astronaut proud ...</td>\n",
       "      <td>0.000</td>\n",
       "      <td>0.586</td>\n",
       "      <td>0.414</td>\n",
       "      <td>0.8834</td>\n",
       "    </tr>\n",
       "    <tr>\n",
       "      <th>1</th>\n",
       "      <td>Texas</td>\n",
       "      <td>Ted Cruz</td>\n",
       "      <td>Republican</td>\n",
       "      <td>0</td>\n",
       "      <td>SenTedCruz</td>\n",
       "      <td>https://twitter.com/SenTedCruz</td>\n",
       "      <td>2020-05-30 12:07:58</td>\n",
       "      <td>The events that have been unfolding across our...</td>\n",
       "      <td>[]</td>\n",
       "      <td>https://twitter.com/SenTedCruz/status/12667632...</td>\n",
       "      <td>[]</td>\n",
       "      <td>the events that have been unfolding across our...</td>\n",
       "      <td>['events', 'unfolding', 'across', 'country', '...</td>\n",
       "      <td>event unfold across countri heartbreak ever pu...</td>\n",
       "      <td>0.240</td>\n",
       "      <td>0.760</td>\n",
       "      <td>0.000</td>\n",
       "      <td>-0.7430</td>\n",
       "    </tr>\n",
       "    <tr>\n",
       "      <th>2</th>\n",
       "      <td>West Virginia</td>\n",
       "      <td>Joe Manchin</td>\n",
       "      <td>Democrat</td>\n",
       "      <td>0</td>\n",
       "      <td>Sen_JoeManchin</td>\n",
       "      <td>https://twitter.com/Sen_JoeManchin</td>\n",
       "      <td>2020-03-13 16:32:14</td>\n",
       "      <td>The impact of the coronavirus outbreak on our ...</td>\n",
       "      <td>[]</td>\n",
       "      <td>https://twitter.com/Sen_JoeManchin/status/1238...</td>\n",
       "      <td>['https://sen.gov/R5PN']</td>\n",
       "      <td>the impact the coronavirus outbreak our health...</td>\n",
       "      <td>['impact', 'coronavirus', 'outbreak', 'healthc...</td>\n",
       "      <td>impact coronaviru outbreak healthcar system ma...</td>\n",
       "      <td>0.000</td>\n",
       "      <td>0.693</td>\n",
       "      <td>0.307</td>\n",
       "      <td>0.8126</td>\n",
       "    </tr>\n",
       "    <tr>\n",
       "      <th>3</th>\n",
       "      <td>Vermont</td>\n",
       "      <td>Patrick Leahy</td>\n",
       "      <td>Democrat</td>\n",
       "      <td>0</td>\n",
       "      <td>SenatorLeahy</td>\n",
       "      <td>https://twitter.com/SenatorLeahy</td>\n",
       "      <td>2020-07-30 10:33:01</td>\n",
       "      <td>This is the Trump-Pompeo foreign policy legacy...</td>\n",
       "      <td>[]</td>\n",
       "      <td>https://twitter.com/SenatorLeahy/status/128884...</td>\n",
       "      <td>['https://www.latimes.com/politics/story/2020-...</td>\n",
       "      <td>this the trump pompeo foreign policy legacy  g...</td>\n",
       "      <td>['trump', 'pompeo', 'foreign', 'policy', 'lega...</td>\n",
       "      <td>trump pompeo foreign polici legaci gift corrup...</td>\n",
       "      <td>0.199</td>\n",
       "      <td>0.574</td>\n",
       "      <td>0.226</td>\n",
       "      <td>0.2023</td>\n",
       "    </tr>\n",
       "    <tr>\n",
       "      <th>4</th>\n",
       "      <td>Kentucky</td>\n",
       "      <td>Mitch McConnell</td>\n",
       "      <td>Republican</td>\n",
       "      <td>0</td>\n",
       "      <td>LeaderMcConnell</td>\n",
       "      <td>https://twitter.com/LeaderMcConnell</td>\n",
       "      <td>2020-03-03 09:26:41</td>\n",
       "      <td>In many ways, #AIPAC2020 marks a promising tim...</td>\n",
       "      <td>[aipac2020]</td>\n",
       "      <td>https://twitter.com/LeaderMcConnell/status/123...</td>\n",
       "      <td>[]</td>\n",
       "      <td>many ways  marks promising time for the    isr...</td>\n",
       "      <td>['many', 'ways', 'marks', 'promising', 'time',...</td>\n",
       "      <td>mani way mark promis time israel relationship ...</td>\n",
       "      <td>0.116</td>\n",
       "      <td>0.683</td>\n",
       "      <td>0.201</td>\n",
       "      <td>0.3612</td>\n",
       "    </tr>\n",
       "  </tbody>\n",
       "</table>\n",
       "</div>"
      ],
      "text/plain": [
       "           State          Senator       Party  Multiple   Twitter Handle  \\\n",
       "0       Michigan      Gary Peters    Democrat         0    SenGaryPeters   \n",
       "1          Texas         Ted Cruz  Republican         0       SenTedCruz   \n",
       "2  West Virginia      Joe Manchin    Democrat         0   Sen_JoeManchin   \n",
       "3        Vermont    Patrick Leahy    Democrat         0     SenatorLeahy   \n",
       "4       Kentucky  Mitch McConnell  Republican         0  LeaderMcConnell   \n",
       "\n",
       "                          Twitter Link                 date  \\\n",
       "0    https://twitter.com/SenGaryPeters  2020-02-06 12:07:30   \n",
       "1       https://twitter.com/SenTedCruz  2020-05-30 12:07:58   \n",
       "2   https://twitter.com/Sen_JoeManchin  2020-03-13 16:32:14   \n",
       "3     https://twitter.com/SenatorLeahy  2020-07-30 10:33:01   \n",
       "4  https://twitter.com/LeaderMcConnell  2020-03-03 09:26:41   \n",
       "\n",
       "                                               tweet     hashtags  \\\n",
       "0  Welcome back, Grand Rapids native &amp; @NASA ...           []   \n",
       "1  The events that have been unfolding across our...           []   \n",
       "2  The impact of the coronavirus outbreak on our ...           []   \n",
       "3  This is the Trump-Pompeo foreign policy legacy...           []   \n",
       "4  In many ways, #AIPAC2020 marks a promising tim...  [aipac2020]   \n",
       "\n",
       "                                                link  \\\n",
       "0  https://twitter.com/SenGaryPeters/status/12254...   \n",
       "1  https://twitter.com/SenTedCruz/status/12667632...   \n",
       "2  https://twitter.com/Sen_JoeManchin/status/1238...   \n",
       "3  https://twitter.com/SenatorLeahy/status/128884...   \n",
       "4  https://twitter.com/LeaderMcConnell/status/123...   \n",
       "\n",
       "                                                urls  \\\n",
       "0  ['https://www.woodtv.com/news/kent-county/gr-n...   \n",
       "1                                                 []   \n",
       "2                           ['https://sen.gov/R5PN']   \n",
       "3  ['https://www.latimes.com/politics/story/2020-...   \n",
       "4                                                 []   \n",
       "\n",
       "                                          tidy_tweet  \\\n",
       "0  welcome back  grand rapids native astronaut pr...   \n",
       "1  the events that have been unfolding across our...   \n",
       "2  the impact the coronavirus outbreak our health...   \n",
       "3  this the trump pompeo foreign policy legacy  g...   \n",
       "4  many ways  marks promising time for the    isr...   \n",
       "\n",
       "                                              tokens  \\\n",
       "0  ['welcome', 'back', 'grand', 'rapids', 'native...   \n",
       "1  ['events', 'unfolding', 'across', 'country', '...   \n",
       "2  ['impact', 'coronavirus', 'outbreak', 'healthc...   \n",
       "3  ['trump', 'pompeo', 'foreign', 'policy', 'lega...   \n",
       "4  ['many', 'ways', 'marks', 'promising', 'time',...   \n",
       "\n",
       "                                             stemmed    neg    neu    pos  \\\n",
       "0  welcom back grand rapid nativ astronaut proud ...  0.000  0.586  0.414   \n",
       "1  event unfold across countri heartbreak ever pu...  0.240  0.760  0.000   \n",
       "2  impact coronaviru outbreak healthcar system ma...  0.000  0.693  0.307   \n",
       "3  trump pompeo foreign polici legaci gift corrup...  0.199  0.574  0.226   \n",
       "4  mani way mark promis time israel relationship ...  0.116  0.683  0.201   \n",
       "\n",
       "   compound  \n",
       "0    0.8834  \n",
       "1   -0.7430  \n",
       "2    0.8126  \n",
       "3    0.2023  \n",
       "4    0.3612  "
      ]
     },
     "execution_count": 12,
     "metadata": {},
     "output_type": "execute_result"
    }
   ],
   "source": [
    "test_df = pd.read_csv(\"./test_data.csv\", converters={\"hashtags\": literal_eval})\n",
    "test_df.head()"
   ]
  },
  {
   "cell_type": "code",
   "execution_count": 13,
   "metadata": {},
   "outputs": [
    {
     "name": "stdout",
     "output_type": "stream",
     "text": [
      "Democrat      14793\n",
      "Republican    10801\n",
      "Name: Party, dtype: int64\n"
     ]
    }
   ],
   "source": [
    "test_df.loc[test_df.Party == \"Independent\", \"Party\"] = \"Democrat\"\n",
    "print(test_df.Party.value_counts())"
   ]
  },
  {
   "cell_type": "code",
   "execution_count": 14,
   "metadata": {},
   "outputs": [],
   "source": [
    "X_test = test_df[[\"stemmed\", \"neg\", \"neu\", \"pos\", \"compound\"]]\n",
    "y_test = test_df['Party']"
   ]
  },
  {
   "cell_type": "code",
   "execution_count": 15,
   "metadata": {},
   "outputs": [
    {
     "data": {
      "text/plain": [
       "array(['Democrat', 'Republican'], dtype=object)"
      ]
     },
     "execution_count": 15,
     "metadata": {},
     "output_type": "execute_result"
    }
   ],
   "source": [
    "le = LabelEncoder()\n",
    "y_test = le.fit_transform(y_test)\n",
    "le.inverse_transform([0, 1])"
   ]
  },
  {
   "cell_type": "markdown",
   "metadata": {},
   "source": [
    "# Load models"
   ]
  },
  {
   "cell_type": "code",
   "execution_count": 17,
   "metadata": {},
   "outputs": [
    {
     "name": "stderr",
     "output_type": "stream",
     "text": [
      "/Users/ithier/opt/anaconda3/lib/python3.7/site-packages/sklearn/base.py:318: UserWarning: Trying to unpickle estimator MinMaxScaler from version 0.24.1 when using version 0.22.1. This might lead to breaking code or invalid results. Use at your own risk.\n",
      "  UserWarning)\n",
      "/Users/ithier/opt/anaconda3/lib/python3.7/site-packages/sklearn/base.py:318: UserWarning: Trying to unpickle estimator CountVectorizer from version 0.24.1 when using version 0.22.1. This might lead to breaking code or invalid results. Use at your own risk.\n",
      "  UserWarning)\n",
      "/Users/ithier/opt/anaconda3/lib/python3.7/site-packages/sklearn/base.py:318: UserWarning: Trying to unpickle estimator TfidfTransformer from version 0.24.1 when using version 0.22.1. This might lead to breaking code or invalid results. Use at your own risk.\n",
      "  UserWarning)\n",
      "/Users/ithier/opt/anaconda3/lib/python3.7/site-packages/sklearn/base.py:318: UserWarning: Trying to unpickle estimator Normalizer from version 0.24.1 when using version 0.22.1. This might lead to breaking code or invalid results. Use at your own risk.\n",
      "  UserWarning)\n",
      "/Users/ithier/opt/anaconda3/lib/python3.7/site-packages/sklearn/base.py:318: UserWarning: Trying to unpickle estimator Pipeline from version 0.24.1 when using version 0.22.1. This might lead to breaking code or invalid results. Use at your own risk.\n",
      "  UserWarning)\n",
      "/Users/ithier/opt/anaconda3/lib/python3.7/site-packages/sklearn/base.py:318: UserWarning: Trying to unpickle estimator ColumnTransformer from version 0.24.1 when using version 0.22.1. This might lead to breaking code or invalid results. Use at your own risk.\n",
      "  UserWarning)\n",
      "/Users/ithier/opt/anaconda3/lib/python3.7/site-packages/sklearn/base.py:318: UserWarning: Trying to unpickle estimator MultinomialNB from version 0.24.1 when using version 0.22.1. This might lead to breaking code or invalid results. Use at your own risk.\n",
      "  UserWarning)\n",
      "/Users/ithier/opt/anaconda3/lib/python3.7/site-packages/sklearn/base.py:318: UserWarning: Trying to unpickle estimator DecisionTreeClassifier from version 0.24.1 when using version 0.22.1. This might lead to breaking code or invalid results. Use at your own risk.\n",
      "  UserWarning)\n",
      "/Users/ithier/opt/anaconda3/lib/python3.7/site-packages/sklearn/base.py:318: UserWarning: Trying to unpickle estimator RandomForestClassifier from version 0.24.1 when using version 0.22.1. This might lead to breaking code or invalid results. Use at your own risk.\n",
      "  UserWarning)\n",
      "/Users/ithier/opt/anaconda3/lib/python3.7/site-packages/sklearn/base.py:318: UserWarning: Trying to unpickle estimator Pipeline from version 0.24.1 when using version 0.22.1. This might lead to breaking code or invalid results. Use at your own risk.\n",
      "  UserWarning)\n",
      "/Users/ithier/opt/anaconda3/lib/python3.7/site-packages/sklearn/base.py:318: UserWarning: Trying to unpickle estimator MinMaxScaler from version 0.24.1 when using version 0.22.1. This might lead to breaking code or invalid results. Use at your own risk.\n",
      "  UserWarning)\n",
      "/Users/ithier/opt/anaconda3/lib/python3.7/site-packages/sklearn/base.py:318: UserWarning: Trying to unpickle estimator CountVectorizer from version 0.24.1 when using version 0.22.1. This might lead to breaking code or invalid results. Use at your own risk.\n",
      "  UserWarning)\n",
      "/Users/ithier/opt/anaconda3/lib/python3.7/site-packages/sklearn/base.py:318: UserWarning: Trying to unpickle estimator TfidfTransformer from version 0.24.1 when using version 0.22.1. This might lead to breaking code or invalid results. Use at your own risk.\n",
      "  UserWarning)\n",
      "/Users/ithier/opt/anaconda3/lib/python3.7/site-packages/sklearn/base.py:318: UserWarning: Trying to unpickle estimator Normalizer from version 0.24.1 when using version 0.22.1. This might lead to breaking code or invalid results. Use at your own risk.\n",
      "  UserWarning)\n",
      "/Users/ithier/opt/anaconda3/lib/python3.7/site-packages/sklearn/base.py:318: UserWarning: Trying to unpickle estimator ColumnTransformer from version 0.24.1 when using version 0.22.1. This might lead to breaking code or invalid results. Use at your own risk.\n",
      "  UserWarning)\n",
      "/Users/ithier/opt/anaconda3/lib/python3.7/site-packages/sklearn/base.py:318: UserWarning: Trying to unpickle estimator LinearSVC from version 0.24.1 when using version 0.22.1. This might lead to breaking code or invalid results. Use at your own risk.\n",
      "  UserWarning)\n"
     ]
    }
   ],
   "source": [
    "mnb_model = load(\"./models/mnb_trained_model.joblib\")\n",
    "rfc_model = load(\"./models/rfc_trained_model.joblib\")\n",
    "svc_model = load(\"./models/svc_trained_model.joblib\")"
   ]
  },
  {
   "cell_type": "markdown",
   "metadata": {},
   "source": [
    "# Evaluation Helper Function"
   ]
  },
  {
   "cell_type": "code",
   "execution_count": 18,
   "metadata": {},
   "outputs": [],
   "source": [
    "# https://stackoverflow.com/questions/59165149/plot-confusion-matrix-with-scikit-learn-without-a-classifier\n",
    "def get_stats(clf, y_test, cm_save_name):\n",
    "    y_pred = clf.predict(X_test)\n",
    "    y_pred = le.transform(y_pred)\n",
    "    \n",
    "    accuracy = sklearn.metrics.accuracy_score(y_test, y_pred)\n",
    "    precision = sklearn.metrics.precision_score(y_test, y_pred)\n",
    "    recall =  sklearn.metrics.recall_score(y_test, y_pred)\n",
    "    f1 =  sklearn.metrics.f1_score(y_test, y_pred)\n",
    "    \n",
    "    print(\"accuracy: \", round(accuracy, 2))\n",
    "    print(\"precision: \", round(precision, 2))\n",
    "    print(\"recall: \", round(recall, 2))\n",
    "    print(\"f1 score: \", round(f1, 2), \"\\n\")\n",
    "    \n",
    "    print(\"classification report\")\n",
    "    print(sklearn.metrics.classification_report(y_test, y_pred))\n",
    "    \n",
    "    cm = sklearn.metrics.confusion_matrix(y_test, y_pred)\n",
    "    disp = ConfusionMatrixDisplay(confusion_matrix=cm, display_labels=le.inverse_transform([0, 1]))\n",
    "    disp = disp.plot(include_values=True, cmap=\"Blues\", values_format=\".7g\")\n",
    "    plt.savefig(\"./Figures/\" + cm_save_name)\n",
    "    plt.show()"
   ]
  },
  {
   "cell_type": "code",
   "execution_count": 10,
   "metadata": {},
   "outputs": [],
   "source": [
    "def get_stats_pytorch(df, cm_save_name):\n",
    "    y_pred = df[\"Predicted Class\"].values\n",
    "    y_test = df[\"True Labels\"]\n",
    "    \n",
    "    accuracy = sklearn.metrics.accuracy_score(y_test, y_pred)\n",
    "    precision = sklearn.metrics.precision_score(y_test, y_pred)\n",
    "    recall =  sklearn.metrics.recall_score(y_test, y_pred)\n",
    "    f1 =  sklearn.metrics.f1_score(y_test, y_pred)\n",
    "    \n",
    "    print(\"accuracy: \", round(accuracy, 2))\n",
    "    print(\"precision: \", round(precision, 2))\n",
    "    print(\"recall: \", round(recall, 2))\n",
    "    print(\"f1 score: \", round(f1, 2), \"\\n\")\n",
    "    \n",
    "    print(\"classification report\")\n",
    "    print(sklearn.metrics.classification_report(y_test, y_pred))\n",
    "    \n",
    "    cm = sklearn.metrics.confusion_matrix(y_test, y_pred)\n",
    "    disp = ConfusionMatrixDisplay(confusion_matrix=cm, display_labels=le.inverse_transform([0, 1]))\n",
    "    disp = disp.plot(include_values=True, cmap=\"Blues\", values_format=\".7g\")\n",
    "    plt.savefig(\"./Figures/\" + cm_save_name)\n",
    "    plt.show()"
   ]
  },
  {
   "cell_type": "markdown",
   "metadata": {},
   "source": [
    "# Evaluate"
   ]
  },
  {
   "cell_type": "code",
   "execution_count": 16,
   "metadata": {},
   "outputs": [
    {
     "name": "stdout",
     "output_type": "stream",
     "text": [
      "accuracy:  0.81\n",
      "precision:  0.78\n",
      "recall:  0.77\n",
      "f1 score:  0.78 \n",
      "\n",
      "classification report\n",
      "              precision    recall  f1-score   support\n",
      "\n",
      "         0.0       0.84      0.84      0.84     14793\n",
      "         1.0       0.78      0.77      0.78     10801\n",
      "\n",
      "    accuracy                           0.81     25594\n",
      "   macro avg       0.81      0.81      0.81     25594\n",
      "weighted avg       0.81      0.81      0.81     25594\n",
      "\n"
     ]
    },
    {
     "data": {
      "image/png": "[encoded data removed]",
      "text/plain": [
       "<Figure size 432x288 with 2 Axes>"
      ]
     },
     "metadata": {
      "needs_background": "light"
     },
     "output_type": "display_data"
    }
   ],
   "source": [
    "get_stats_pytorch(pytorch_df, \"gru.png\")"
   ]
  },
  {
   "cell_type": "code",
   "execution_count": 19,
   "metadata": {},
   "outputs": [
    {
     "name": "stdout",
     "output_type": "stream",
     "text": [
      "accuracy:  0.85\n",
      "precision:  0.83\n",
      "recall:  0.8\n",
      "f1 score:  0.82 \n",
      "\n",
      "classification report\n",
      "              precision    recall  f1-score   support\n",
      "\n",
      "           0       0.86      0.88      0.87     14793\n",
      "           1       0.83      0.80      0.82     10801\n",
      "\n",
      "    accuracy                           0.85     25594\n",
      "   macro avg       0.84      0.84      0.84     25594\n",
      "weighted avg       0.85      0.85      0.85     25594\n",
      "\n"
     ]
    },
    {
     "data": {
      "image/png": "[encoded data removed]",
      "text/plain": [
       "<Figure size 432x288 with 2 Axes>"
      ]
     },
     "metadata": {
      "needs_background": "light"
     },
     "output_type": "display_data"
    }
   ],
   "source": [
    "get_stats(mnb_model, y_test, \"mnb_confusion_matrix.png\")"
   ]
  },
  {
   "cell_type": "code",
   "execution_count": 20,
   "metadata": {},
   "outputs": [
    {
     "name": "stderr",
     "output_type": "stream",
     "text": [
      "[Parallel(n_jobs=1)]: Using backend SequentialBackend with 1 concurrent workers.\n",
      "[Parallel(n_jobs=1)]: Done   1 out of   1 | elapsed:    0.0s remaining:    0.0s\n",
      "[Parallel(n_jobs=1)]: Done 100 out of 100 | elapsed:    1.5s finished\n"
     ]
    },
    {
     "name": "stdout",
     "output_type": "stream",
     "text": [
      "accuracy:  0.79\n",
      "precision:  0.84\n",
      "recall:  0.62\n",
      "f1 score:  0.71 \n",
      "\n",
      "classification report\n",
      "              precision    recall  f1-score   support\n",
      "\n",
      "           0       0.77      0.92      0.83     14793\n",
      "           1       0.84      0.62      0.71     10801\n",
      "\n",
      "    accuracy                           0.79     25594\n",
      "   macro avg       0.80      0.77      0.77     25594\n",
      "weighted avg       0.80      0.79      0.78     25594\n",
      "\n"
     ]
    },
    {
     "data": {
      "image/png": "[encoded data removed]",
      "text/plain": [
       "<Figure size 432x288 with 2 Axes>"
      ]
     },
     "metadata": {
      "needs_background": "light"
     },
     "output_type": "display_data"
    }
   ],
   "source": [
    "get_stats(rfc_model, y_test, \"rfc_confusion_matrix.png\")"
   ]
  },
  {
   "cell_type": "code",
   "execution_count": 21,
   "metadata": {},
   "outputs": [
    {
     "name": "stdout",
     "output_type": "stream",
     "text": [
      "accuracy:  0.86\n",
      "precision:  0.85\n",
      "recall:  0.8\n",
      "f1 score:  0.82 \n",
      "\n",
      "classification report\n",
      "              precision    recall  f1-score   support\n",
      "\n",
      "           0       0.86      0.90      0.88     14793\n",
      "           1       0.85      0.80      0.82     10801\n",
      "\n",
      "    accuracy                           0.86     25594\n",
      "   macro avg       0.86      0.85      0.85     25594\n",
      "weighted avg       0.86      0.86      0.86     25594\n",
      "\n"
     ]
    },
    {
     "data": {
      "image/png": "[encoded data removed]",
      "text/plain": [
       "<Figure size 432x288 with 2 Axes>"
      ]
     },
     "metadata": {
      "needs_background": "light"
     },
     "output_type": "display_data"
    }
   ],
   "source": [
    "get_stats(svc_model, y_test, \"svc_confusion_matrix.png\")"
   ]
  },
  {
   "cell_type": "markdown",
   "metadata": {},
   "source": [
    "# ROC Curves"
   ]
  },
  {
   "cell_type": "code",
   "execution_count": 22,
   "metadata": {},
   "outputs": [],
   "source": [
    "y_test_strings = le.inverse_transform(y_test)"
   ]
  },
  {
   "cell_type": "code",
   "execution_count": null,
   "metadata": {},
   "outputs": [],
   "source": [
    "y_test_strings"
   ]
  },
  {
   "cell_type": "code",
   "execution_count": 26,
   "metadata": {},
   "outputs": [
    {
     "name": "stderr",
     "output_type": "stream",
     "text": [
      "[Parallel(n_jobs=1)]: Using backend SequentialBackend with 1 concurrent workers.\n",
      "[Parallel(n_jobs=1)]: Done   1 out of   1 | elapsed:    0.0s remaining:    0.0s\n",
      "[Parallel(n_jobs=1)]: Done 100 out of 100 | elapsed:    1.5s finished\n"
     ]
    },
    {
     "data": {
      "image/png": "[encoded data removed]",
      "text/plain": [
       "<Figure size 432x288 with 1 Axes>"
      ]
     },
     "metadata": {
      "needs_background": "light"
     },
     "output_type": "display_data"
    }
   ],
   "source": [
    "fig, ax = plt.subplots()\n",
    "metrics.plot_roc_curve(svc_model, X_test, y_test_strings, name=\"Support Vector Classifier\", ax=ax)\n",
    "metrics.plot_roc_curve(mnb_model, X_test, y_test_strings, name=\"Multinomial Naive Bayes\", ax=ax)\n",
    "metrics.plot_roc_curve(rfc_model, X_test, y_test_strings, name=\"Random Forest\", ax=ax)\n",
    "\n",
    "fpr, tpr, thresholds = metrics.roc_curve(pytorch_df[\"True Labels\"].values, pytorch_df[\"Probability\"].values)\n",
    "auc = metrics.auc(fpr, tpr)\n",
    "\n",
    "disp = RocCurveDisplay(fpr=fpr, tpr=tpr, roc_auc=auc, estimator_name=\"Gated Recurrent Unit\")\n",
    "disp.plot(ax=ax)\n",
    "ax.legend()\n",
    "ax.set(title=\"ROC Curves for Different Classifiers\")\n",
    "\n",
    "plt.show()\n",
    "\n",
    "\n",
    "fig.savefig(\"./Figures/ROC_curves.png\")\n",
    "\n"
   ]
  },
  {
   "cell_type": "markdown",
   "metadata": {},
   "source": [
    "# Precision Recall Curves"
   ]
  },
  {
   "cell_type": "code",
   "execution_count": 27,
   "metadata": {},
   "outputs": [
    {
     "name": "stderr",
     "output_type": "stream",
     "text": [
      "[Parallel(n_jobs=1)]: Using backend SequentialBackend with 1 concurrent workers.\n",
      "[Parallel(n_jobs=1)]: Done   1 out of   1 | elapsed:    0.0s remaining:    0.0s\n",
      "[Parallel(n_jobs=1)]: Done 100 out of 100 | elapsed:    1.5s finished\n"
     ]
    },
    {
     "data": {
      "image/png": "[encoded data removed]",
      "text/plain": [
       "<Figure size 432x288 with 1 Axes>"
      ]
     },
     "metadata": {
      "needs_background": "light"
     },
     "output_type": "display_data"
    }
   ],
   "source": [
    "fig, ax = plt.subplots()\n",
    "metrics.plot_precision_recall_curve(svc_model, X_test, y_test_strings, name=\"Support Vector Classifier\", ax=ax)\n",
    "metrics.plot_precision_recall_curve(mnb_model, X_test, y_test_strings, name=\"Multinomial Naive Bayes\", ax=ax)\n",
    "metrics.plot_precision_recall_curve(rfc_model, X_test, y_test_strings, name=\"Random Forest\", ax=ax)\n",
    "\n",
    "precision, recall, thresholds = metrics.precision_recall_curve(pytorch_df[\"True Labels\"].values, pytorch_df[\"Probability\"].values)\n",
    "ap = metrics.average_precision_score(pytorch_df[\"True Labels\"].values, pytorch_df[\"Probability\"].values)\n",
    "\n",
    "disp = PrecisionRecallDisplay(precision=precision, recall=recall, average_precision=ap, estimator_name=\"Gated Recurrent Unit\")\n",
    "disp.plot(ax=ax)\n",
    "ax.legend()\n",
    "\n",
    "ax.set(title=\"Precision Recall Curves for Different Classifiers\")\n",
    "fig.savefig(\"./Figures/Precision_recall_curves.png\")"
   ]
  },
  {
   "cell_type": "markdown",
   "metadata": {},
   "source": [
    "# Example Code"
   ]
  },
  {
   "cell_type": "code",
   "execution_count": null,
   "metadata": {},
   "outputs": [],
   "source": [
    "import matplotlib.pyplot as plt\n",
    "from sklearn import datasets, metrics, model_selection, svm\n",
    "from sklearn.ensemble import RandomForestClassifier\n",
    "import numpy as np"
   ]
  },
  {
   "cell_type": "code",
   "execution_count": null,
   "metadata": {},
   "outputs": [],
   "source": [
    "X, y = datasets.make_classification(random_state=0)\n",
    "X_train, X_test, y_train, y_test = model_selection.train_test_split(X, y, random_state=0)\n",
    "\n",
    "svc_clf = svm.SVC(random_state=0)\n",
    "svc_clf.fit(X_train, y_train)\n",
    "\n",
    "forest_clf = RandomForestClassifier(random_state=0)\n",
    "forest_clf.fit(X_train, y_train)\n",
    "y_score = forest_clf.predict_proba(X_test)\n",
    "y_score = y_score[:, 1]\n",
    "\n",
    "fpr, tpr, thresholds = metrics.roc_curve(y_test, y_score)\n",
    "auc = metrics.auc(fpr, tpr)\n",
    "\n",
    "fig, ax = plt.subplots()\n",
    "metrics.plot_roc_curve(svc_clf, X_test, y_test, name=\"SVM\", ax=ax)\n",
    "#ax.plot(fpr, tpr, label=\"Random Forest (AUC= %.02f)\" % auc)\n",
    "disp = RocCurveDisplay(fpr=fpr, tpr=tpr, roc_auc=auc, estimator_name=\"Random Forest\")\n",
    "disp.plot(ax=ax)\n",
    "ax.set(title=\"ROC curves\")\n",
    "ax.legend()\n",
    "\n",
    "plt.show()\n"
   ]
  },
  {
   "cell_type": "code",
   "execution_count": null,
   "metadata": {},
   "outputs": [],
   "source": [
    "metrics.plot_roc_curve(forest_clf, X_test, y_test, name=\"Random Forest\")\n",
    "plt.show()"
   ]
  },
  {
   "cell_type": "code",
   "execution_count": null,
   "metadata": {},
   "outputs": [],
   "source": [
    "precision, recall, thresholds = metrics.precision_recall_curve(y_test, y_score)\n",
    "ap = metrics.average_precision_score(y_test, y_score)\n",
    "\n",
    "fig, ax = plt.subplots()\n",
    "metrics.plot_precision_recall_curve(svc_clf, X_test, y_test, name=\"SVM\", ax=ax)\n",
    "disp = PrecisionRecallDisplay(precision=precision, recall=recall, average_precision=ap, estimator_name=\"Random Forest\")\n",
    "disp.plot(ax=ax)\n",
    "ax.set(title=\"Precision Recall Curves\")\n",
    "ax.legend()\n",
    "\n",
    "plt.show()"
   ]
  },
  {
   "cell_type": "code",
   "execution_count": null,
   "metadata": {},
   "outputs": [],
   "source": [
    "PrecisionRecallDisplay(precision=precision, recall=recall, average_precision=ap, estimator_name=\"Random Forest\").plot()"
   ]
  },
  {
   "cell_type": "code",
   "execution_count": null,
   "metadata": {},
   "outputs": [],
   "source": [
    "metrics.plot_precision_recall_curve(forest_clf, X_test, y_test)\n",
    "plt.show()"
   ]
  },
  {
   "cell_type": "code",
   "execution_count": null,
   "metadata": {},
   "outputs": [],
   "source": []
  }
 ],
 "metadata": {
  "kernelspec": {
   "display_name": "Python 3",
   "language": "python",
   "name": "python3"
  },
  "language_info": {
   "codemirror_mode": {
    "name": "ipython",
    "version": 3
   },
   "file_extension": ".py",
   "mimetype": "text/x-python",
   "name": "python",
   "nbconvert_exporter": "python",
   "pygments_lexer": "ipython3",
   "version": "3.7.6"
  }
 },
 "nbformat": 4,
 "nbformat_minor": 4
}
