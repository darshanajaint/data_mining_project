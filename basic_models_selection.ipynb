{
 "cells": [
  {
   "cell_type": "code",
   "execution_count": 1,
   "metadata": {},
   "outputs": [],
   "source": [
    "import pandas as pd\n",
    "\n",
    "import sklearn\n",
    "\n",
    "# Preprocessing functions\n",
    "from sklearn.preprocessing import MinMaxScaler, Normalizer\n",
    "from sklearn.compose import ColumnTransformer\n",
    "from sklearn.feature_extraction.text import CountVectorizer, TfidfTransformer\n",
    "from sklearn.pipeline import Pipeline\n",
    "\n",
    "# Plug and play classifiers\n",
    "from sklearn.model_selection import GridSearchCV\n",
    "from sklearn.ensemble import RandomForestClassifier\n",
    "from sklearn.linear_model import SGDClassifier\n",
    "from sklearn.naive_bayes import MultinomialNB\n",
    "from sklearn.svm import LinearSVC, SVC\n",
    "\n",
    "# Saving the model\n",
    "from joblib import dump, load"
   ]
  },
  {
   "cell_type": "code",
   "execution_count": 2,
   "metadata": {},
   "outputs": [],
   "source": [
    "def read_data(filename):\n",
    "    data = pd.read_csv(filename)\n",
    "    data.loc[data.Party == \"Independent\", \"Party\"] = \"Democrat\"\n",
    "    print(data.Party.value_counts())\n",
    "    X = data[[\"stemmed\", \"neg\", \"neu\", \"pos\", \"compound\"]]\n",
    "    y = data['Party']\n",
    "    return X, y"
   ]
  },
  {
   "cell_type": "code",
   "execution_count": 3,
   "metadata": {
    "scrolled": true
   },
   "outputs": [
    {
     "name": "stdout",
     "output_type": "stream",
     "text": [
      "Democrat      59171\n",
      "Republican    43201\n",
      "Name: Party, dtype: int64\n",
      "Democrat      14793\n",
      "Republican    10801\n",
      "Name: Party, dtype: int64\n"
     ]
    }
   ],
   "source": [
    "train_X, train_y = read_data('train_data.csv')\n",
    "test_X, test_y = read_data('test_data.csv')"
   ]
  },
  {
   "cell_type": "markdown",
   "metadata": {},
   "source": [
    "## Preprocessor Pipeline"
   ]
  },
  {
   "cell_type": "code",
   "execution_count": 4,
   "metadata": {},
   "outputs": [],
   "source": [
    "def get_preprocessor(specify=False, ngram_range=None, use_idf=None):\n",
    "    # https://scikit-learn.org/stable/auto_examples/compose/plot_column_transformer_mixed_types.html#sphx-glr-auto-examples-compose-plot-column-transformer-mixed-types-py\n",
    "    # https://scikit-learn.org/stable/tutorial/text_analytics/working_with_text_data.html\n",
    "    #https://webcache.googleusercontent.com/search?q=cache:jfbAd7R40V8J:https://www.tutorialguruji.com/python/transfomers-for-mixed-data-types/+&cd=7&hl=en&ct=clnk&gl=us\n",
    "    numeric_features = [\"neg\", \"neu\", \"pos\", \"compound\"]\n",
    "    numeric_transformer = MinMaxScaler()\n",
    "\n",
    "    vect = CountVectorizer()\n",
    "    tfidf = TfidfTransformer()\n",
    "    \n",
    "    if specify:\n",
    "        vect.set_params(ngram_range=ngram_range)\n",
    "        tfidf.set_params(use_idf=use_idf)\n",
    "    \n",
    "    text_transformer = Pipeline(steps=[\n",
    "        (\"vect\", vect),\n",
    "        (\"tfidf\", tfidf),\n",
    "        (\"norm\", Normalizer())\n",
    "    ])\n",
    "\n",
    "    numeric_transformers = [(x + '_scaler', numeric_transformer, [x]) for x in numeric_features]\n",
    "\n",
    "    all_transformers = numeric_transformers + [(\"text\", text_transformer, \"stemmed\")] \n",
    "    preprocessor = ColumnTransformer(transformers=all_transformers)\n",
    "    \n",
    "    return preprocessor"
   ]
  },
  {
   "cell_type": "markdown",
   "metadata": {},
   "source": [
    "## Plug and Play Pipelines"
   ]
  },
  {
   "cell_type": "code",
   "execution_count": 5,
   "metadata": {},
   "outputs": [],
   "source": [
    "def get_pipeline(preprocessor, classifier):\n",
    "    return Pipeline([\n",
    "        ('preprocessor', preprocessor),\n",
    "        ('clf', classifier)\n",
    "    ])"
   ]
  },
  {
   "cell_type": "code",
   "execution_count": 7,
   "metadata": {},
   "outputs": [],
   "source": [
    "preprocessor = get_preprocessor()"
   ]
  },
  {
   "cell_type": "markdown",
   "metadata": {},
   "source": [
    "#### Random Forest Classifier"
   ]
  },
  {
   "cell_type": "code",
   "execution_count": 8,
   "metadata": {},
   "outputs": [],
   "source": [
    "max_depth = 110\n",
    "rfc_classifier = RandomForestClassifier(max_depth=max_depth)\n",
    "\n",
    "rfc_parameters = {\n",
    "    'preprocessor__text__vect__ngram_range': [(1, 1), (1, 2)],\n",
    "    'preprocessor__text__tfidf__use_idf': (True, False),\n",
    "    # 'clf__n_estimators': (25, 50, 75, 100),\n",
    "    # 'clf__criterion': ('gini', 'entropy'),\n",
    "    # 'clf__max_depth': (10, 20, 30, None),\n",
    "    # 'clf__min_samples_leaf': (1, 10, 20, 30),\n",
    "    # 'clf__max_features': ('sqrt', 'log2'),\n",
    "    'clf__bootstrap': (True, False)\n",
    "}\n",
    "\n",
    "rfc = get_pipeline(preprocessor, rfc_classifier)"
   ]
  },
  {
   "cell_type": "markdown",
   "metadata": {},
   "source": [
    "#### SVM Classifier"
   ]
  },
  {
   "cell_type": "code",
   "execution_count": 9,
   "metadata": {},
   "outputs": [],
   "source": [
    "svm_classifier = SGDClassifier(\n",
    "    loss='hinge', penalty='l2', tol=None\n",
    ")\n",
    "\n",
    "svm_parameters = {\n",
    "    'preprocessor__text__vect__ngram_range': [(1, 1), (1, 2)],\n",
    "    'preprocessor__text__tfidf__use_idf': (True, False),\n",
    "    'clf__alpha': (1e-1, 5e-2, 1e-2, 1e-3),\n",
    "    'clf__max_iter': (5, 10, 20)\n",
    "}\n",
    "\n",
    "svm = get_pipeline(preprocessor, svm_classifier)"
   ]
  },
  {
   "cell_type": "markdown",
   "metadata": {},
   "source": [
    "#### Multinomial Naive Bayes Classifier"
   ]
  },
  {
   "cell_type": "code",
   "execution_count": 10,
   "metadata": {},
   "outputs": [],
   "source": [
    "mnb_classifier = MultinomialNB()\n",
    "\n",
    "mnb_parameters = {\n",
    "    'preprocessor__text__vect__ngram_range': [(1, 1), (1, 2)],\n",
    "    'preprocessor__text__tfidf__use_idf': (True, False),\n",
    "    'clf__alpha': (0, 0.025, 0.05, 0.075, 0.1),\n",
    "    'clf__fit_prior': (True, False)\n",
    "}\n",
    "\n",
    "mnb = get_pipeline(preprocessor, mnb_classifier)"
   ]
  },
  {
   "cell_type": "markdown",
   "metadata": {},
   "source": [
    "#### Linear Support Vector Classifier"
   ]
  },
  {
   "cell_type": "code",
   "execution_count": 11,
   "metadata": {},
   "outputs": [],
   "source": [
    "svc_classifier = LinearSVC(penalty='l1', dual=False)\n",
    "\n",
    "svc_parameters = {\n",
    "    'preprocessor__text__vect__ngram_range': [(1, 1), (1, 2)],\n",
    "    'preprocessor__text__tfidf__use_idf': (True, False),\n",
    "    'clf__loss': ('squared_hinge', ),\n",
    "    'clf__C': (10, 20),\n",
    "    'clf__max_iter': (5, 10, 20)\n",
    "}\n",
    "\n",
    "svc = get_pipeline(preprocessor, svc_classifier)"
   ]
  },
  {
   "cell_type": "markdown",
   "metadata": {},
   "source": [
    "#### Standard SVC (to get probability scores)"
   ]
  },
  {
   "cell_type": "code",
   "execution_count": 12,
   "metadata": {},
   "outputs": [],
   "source": [
    "svc_classifier = SVC(probability=True)\n",
    "\n",
    "svc_parameters = {\n",
    "    'preprocessor__text__vect__ngram_range': [(1, 1), (1, 2)],\n",
    "    'preprocessor__text__tfidf__use_idf': (True, False),\n",
    "    'clf__kernel': ('linear', 'poly', 'rbf', 'sigmoid'),\n",
    "    'clf__C': (0.5, 1, 5, 10),\n",
    "    #'clf__max_iter': (5, 10, 20, 30, 40, 50, 60, 70, 80, 90, 100)\n",
    "}\n",
    "\n",
    "svc = get_pipeline(preprocessor, svc_classifier)"
   ]
  },
  {
   "cell_type": "markdown",
   "metadata": {},
   "source": [
    "## Grid Search CV"
   ]
  },
  {
   "cell_type": "code",
   "execution_count": 13,
   "metadata": {},
   "outputs": [],
   "source": [
    "def grid_search_clf(class_pipe, parameters, X, y):\n",
    "    gs_clf = GridSearchCV(class_pipe, parameters, cv=10, n_jobs=-1)\n",
    "    gs_clf = gs_clf.fit(X, y)\n",
    "    '''\n",
    "    print(gs_clf.score(X_test, y_test))\n",
    "    for param_name in sorted(parameters.keys()):\n",
    "        print(\"%s: %r\" % (param_name, gs_clf.best_params_[param_name]))\n",
    "    '''\n",
    "    return gs_clf"
   ]
  },
  {
   "cell_type": "code",
   "execution_count": null,
   "metadata": {
    "scrolled": false
   },
   "outputs": [],
   "source": [
    "start = time.time()\n",
    "gs = grid_search_clf(svc, svc_parameters, train_X, train_y)\n",
    "end = time.time()\n",
    "print(end - start)"
   ]
  },
  {
   "cell_type": "code",
   "execution_count": 123,
   "metadata": {},
   "outputs": [
    {
     "data": {
      "text/plain": [
       "['./svc_clf_l1.joblib']"
      ]
     },
     "execution_count": 123,
     "metadata": {},
     "output_type": "execute_result"
    }
   ],
   "source": [
    "dump(gs, './svc_clf_l1.joblib')"
   ]
  },
  {
   "cell_type": "code",
   "execution_count": null,
   "metadata": {},
   "outputs": [],
   "source": [
    "gs.score(train_X, train_y)"
   ]
  },
  {
   "cell_type": "code",
   "execution_count": null,
   "metadata": {},
   "outputs": [],
   "source": [
    "gs.score(test_X, test_y)"
   ]
  },
  {
   "cell_type": "code",
   "execution_count": null,
   "metadata": {},
   "outputs": [],
   "source": [
    "gs.best_params_"
   ]
  },
  {
   "cell_type": "markdown",
   "metadata": {},
   "source": [
    "## Retraining the best models.\n",
    "\n",
    "### 1. Random Forest Classifier"
   ]
  },
  {
   "cell_type": "markdown",
   "metadata": {},
   "source": [
    "#### Compare the 10 random forest classifier models.\n",
    "\n",
    "The only differences between the models are the maximum depths that the trees were allowed to grow. Each of the forests were trained separately due to how much time each took (from ~10 min for max_depth = 10 to ~1 hour for max_depth = 100)."
   ]
  },
  {
   "cell_type": "code",
   "execution_count": 13,
   "metadata": {},
   "outputs": [],
   "source": [
    "random_forests = []\n",
    "for i in range(10, 101, 10):\n",
    "    random_forests.append(load('./random_forest_clf_maxdepth_{:d}.joblib'.format(i)))"
   ]
  },
  {
   "cell_type": "code",
   "execution_count": 14,
   "metadata": {},
   "outputs": [
    {
     "name": "stdout",
     "output_type": "stream",
     "text": [
      "Max_Depth: 10\n",
      "\tTrain: 0.583724065174071\n",
      "\tTest: 0.5826365554426819\n",
      "Max_Depth: 20\n",
      "\tTrain: 0.6427538780135194\n",
      "\tTest: 0.633820426662499\n",
      "Max_Depth: 30\n",
      "\tTrain: 0.7146290001172195\n",
      "\tTest: 0.6866062358365241\n",
      "Max_Depth: 40\n",
      "\tTrain: 0.7763450943617395\n",
      "\tTest: 0.7182933500039071\n",
      "Max_Depth: 50\n",
      "\tTrain: 0.8404153479467041\n",
      "\tTest: 0.7424396342892865\n",
      "Max_Depth: 60\n",
      "\tTrain: 0.8917379752276013\n",
      "\tTest: 0.7631085410643119\n",
      "Max_Depth: 70\n",
      "\tTrain: 0.9247255108818818\n",
      "\tTest: 0.7722513089005235\n",
      "Max_Depth: 80\n",
      "\tTrain: 0.9537666549447115\n",
      "\tTest: 0.7812377901070563\n",
      "Max_Depth: 90\n",
      "\tTrain: 0.9681651232758958\n",
      "\tTest: 0.7877627568961475\n",
      "Max_Depth: 100\n",
      "\tTrain: 0.9824366037588403\n",
      "\tTest: 0.793584433851684\n"
     ]
    }
   ],
   "source": [
    "max_train = -1\n",
    "max_rcf = None\n",
    "\n",
    "for i in range(10):\n",
    "    score = random_forests[i].score(train_X, train_y)\n",
    "    if score > max_train:\n",
    "        max_train = score\n",
    "        max_rcf = random_forests[i]\n",
    "        \n",
    "    print(\"Max_Depth:\", (i + 1) * 10)\n",
    "    print(\"\\tTrain:\", score)\n",
    "    print(\"\\tTest:\", random_forests[i].score(test_X, test_y))"
   ]
  },
  {
   "cell_type": "code",
   "execution_count": 15,
   "metadata": {},
   "outputs": [
    {
     "data": {
      "text/plain": [
       "{'clf__bootstrap': False,\n",
       " 'preprocessor__text__tfidf__use_idf': False,\n",
       " 'preprocessor__text__vect__ngram_range': (1, 1)}"
      ]
     },
     "execution_count": 15,
     "metadata": {},
     "output_type": "execute_result"
    }
   ],
   "source": [
    "max_rcf.best_params_"
   ]
  },
  {
   "cell_type": "code",
   "execution_count": 16,
   "metadata": {
    "scrolled": true
   },
   "outputs": [
    {
     "data": {
      "text/plain": [
       "0.9824366037588403"
      ]
     },
     "execution_count": 16,
     "metadata": {},
     "output_type": "execute_result"
    }
   ],
   "source": [
    "max_train"
   ]
  },
  {
   "cell_type": "code",
   "execution_count": 14,
   "metadata": {},
   "outputs": [],
   "source": [
    "rfc_preprocessor = get_preprocessor(specify=True, ngram_range=(1, 1), use_idf=False)"
   ]
  },
  {
   "cell_type": "code",
   "execution_count": 16,
   "metadata": {},
   "outputs": [
    {
     "name": "stderr",
     "output_type": "stream",
     "text": [
      "[Parallel(n_jobs=1)]: Using backend SequentialBackend with 1 concurrent workers.\n"
     ]
    },
    {
     "name": "stdout",
     "output_type": "stream",
     "text": [
      "building tree 1 of 100\n"
     ]
    },
    {
     "name": "stderr",
     "output_type": "stream",
     "text": [
      "[Parallel(n_jobs=1)]: Done   1 out of   1 | elapsed:    2.5s remaining:    0.0s\n"
     ]
    },
    {
     "name": "stdout",
     "output_type": "stream",
     "text": [
      "building tree 2 of 100\n",
      "building tree 3 of 100\n",
      "building tree 4 of 100\n",
      "building tree 5 of 100\n",
      "building tree 6 of 100\n",
      "building tree 7 of 100\n",
      "building tree 8 of 100\n",
      "building tree 9 of 100\n",
      "building tree 10 of 100\n",
      "building tree 11 of 100\n",
      "building tree 12 of 100\n",
      "building tree 13 of 100\n",
      "building tree 14 of 100\n",
      "building tree 15 of 100\n",
      "building tree 16 of 100\n",
      "building tree 17 of 100\n",
      "building tree 18 of 100\n",
      "building tree 19 of 100\n",
      "building tree 20 of 100\n",
      "building tree 21 of 100\n",
      "building tree 22 of 100\n",
      "building tree 23 of 100\n",
      "building tree 24 of 100\n",
      "building tree 25 of 100\n",
      "building tree 26 of 100\n",
      "building tree 27 of 100\n",
      "building tree 28 of 100\n",
      "building tree 29 of 100\n",
      "building tree 30 of 100\n",
      "building tree 31 of 100\n",
      "building tree 32 of 100\n",
      "building tree 33 of 100\n",
      "building tree 34 of 100\n",
      "building tree 35 of 100\n",
      "building tree 36 of 100\n",
      "building tree 37 of 100\n",
      "building tree 38 of 100\n",
      "building tree 39 of 100\n",
      "building tree 40 of 100\n",
      "building tree 41 of 100\n",
      "building tree 42 of 100\n",
      "building tree 43 of 100\n",
      "building tree 44 of 100\n",
      "building tree 45 of 100\n",
      "building tree 46 of 100\n",
      "building tree 47 of 100\n",
      "building tree 48 of 100\n",
      "building tree 49 of 100\n",
      "building tree 50 of 100\n",
      "building tree 51 of 100\n",
      "building tree 52 of 100\n",
      "building tree 53 of 100\n",
      "building tree 54 of 100\n",
      "building tree 55 of 100\n",
      "building tree 56 of 100\n",
      "building tree 57 of 100\n",
      "building tree 58 of 100\n",
      "building tree 59 of 100\n",
      "building tree 60 of 100\n",
      "building tree 61 of 100\n",
      "building tree 62 of 100\n",
      "building tree 63 of 100\n",
      "building tree 64 of 100\n",
      "building tree 65 of 100\n",
      "building tree 66 of 100\n",
      "building tree 67 of 100\n",
      "building tree 68 of 100\n",
      "building tree 69 of 100\n",
      "building tree 70 of 100\n",
      "building tree 71 of 100\n",
      "building tree 72 of 100\n",
      "building tree 73 of 100\n",
      "building tree 74 of 100\n",
      "building tree 75 of 100\n",
      "building tree 76 of 100\n",
      "building tree 77 of 100\n",
      "building tree 78 of 100\n",
      "building tree 79 of 100\n",
      "building tree 80 of 100\n",
      "building tree 81 of 100\n",
      "building tree 82 of 100\n",
      "building tree 83 of 100\n",
      "building tree 84 of 100\n",
      "building tree 85 of 100\n",
      "building tree 86 of 100\n",
      "building tree 87 of 100\n",
      "building tree 88 of 100\n",
      "building tree 89 of 100\n",
      "building tree 90 of 100\n",
      "building tree 91 of 100\n",
      "building tree 92 of 100\n",
      "building tree 93 of 100\n",
      "building tree 94 of 100\n",
      "building tree 95 of 100\n",
      "building tree 96 of 100\n",
      "building tree 97 of 100\n",
      "building tree 98 of 100\n",
      "building tree 99 of 100\n",
      "building tree 100 of 100\n"
     ]
    },
    {
     "name": "stderr",
     "output_type": "stream",
     "text": [
      "[Parallel(n_jobs=1)]: Done 100 out of 100 | elapsed:  8.0min finished\n"
     ]
    },
    {
     "data": {
      "text/plain": [
       "Pipeline(steps=[('preprocessor',\n",
       "                 ColumnTransformer(transformers=[('neg_scaler', MinMaxScaler(),\n",
       "                                                  ['neg']),\n",
       "                                                 ('neu_scaler', MinMaxScaler(),\n",
       "                                                  ['neu']),\n",
       "                                                 ('pos_scaler', MinMaxScaler(),\n",
       "                                                  ['pos']),\n",
       "                                                 ('compound_scaler',\n",
       "                                                  MinMaxScaler(),\n",
       "                                                  ['compound']),\n",
       "                                                 ('text',\n",
       "                                                  Pipeline(steps=[('vect',\n",
       "                                                                   CountVectorizer()),\n",
       "                                                                  ('tfidf',\n",
       "                                                                   TfidfTransformer(use_idf=False)),\n",
       "                                                                  ('norm',\n",
       "                                                                   Normalizer())]),\n",
       "                                                  'stemmed')])),\n",
       "                ('clf',\n",
       "                 RandomForestClassifier(bootstrap=False, max_depth=100,\n",
       "                                        verbose=2))])"
      ]
     },
     "execution_count": 16,
     "metadata": {},
     "output_type": "execute_result"
    }
   ],
   "source": [
    "rfc_classifier = RandomForestClassifier(max_depth=100, bootstrap=False, verbose=2)\n",
    "\n",
    "rfc_retrain = get_pipeline(rfc_preprocessor, rfc_classifier)\n",
    "rfc_retrain.fit(train_X, train_y)"
   ]
  },
  {
   "cell_type": "code",
   "execution_count": 17,
   "metadata": {},
   "outputs": [
    {
     "data": {
      "text/plain": [
       "['rfc_trained_model.joblib']"
      ]
     },
     "execution_count": 17,
     "metadata": {},
     "output_type": "execute_result"
    }
   ],
   "source": [
    "dump(rfc_retrain, 'rfc_trained_model.joblib')"
   ]
  },
  {
   "cell_type": "code",
   "execution_count": 18,
   "metadata": {
    "scrolled": true
   },
   "outputs": [
    {
     "name": "stderr",
     "output_type": "stream",
     "text": [
      "[Parallel(n_jobs=1)]: Using backend SequentialBackend with 1 concurrent workers.\n",
      "[Parallel(n_jobs=1)]: Done   1 out of   1 | elapsed:    0.0s remaining:    0.0s\n",
      "[Parallel(n_jobs=1)]: Done 100 out of 100 | elapsed:    3.5s finished\n",
      "[Parallel(n_jobs=1)]: Using backend SequentialBackend with 1 concurrent workers.\n",
      "[Parallel(n_jobs=1)]: Done   1 out of   1 | elapsed:    0.0s remaining:    0.0s\n",
      "[Parallel(n_jobs=1)]: Done 100 out of 100 | elapsed:    0.8s finished\n"
     ]
    },
    {
     "data": {
      "text/plain": [
       "(0.9801508224905248, 0.7898726263968118)"
      ]
     },
     "execution_count": 18,
     "metadata": {},
     "output_type": "execute_result"
    }
   ],
   "source": [
    "rfc_retrain.score(train_X, train_y), rfc_retrain.score(test_X, test_y)"
   ]
  },
  {
   "cell_type": "markdown",
   "metadata": {},
   "source": [
    "### 2. Multinomial Naive Bayes Classifier "
   ]
  },
  {
   "cell_type": "code",
   "execution_count": 19,
   "metadata": {},
   "outputs": [],
   "source": [
    "gs_mnb = load('./multinomial_nb_clf.joblib')"
   ]
  },
  {
   "cell_type": "code",
   "execution_count": 20,
   "metadata": {},
   "outputs": [
    {
     "data": {
      "text/plain": [
       "(0.9870765443676005, 0.8469953895444244)"
      ]
     },
     "execution_count": 20,
     "metadata": {},
     "output_type": "execute_result"
    }
   ],
   "source": [
    "gs_mnb.score(train_X, train_y), gs_mnb.score(test_X, test_y)"
   ]
  },
  {
   "cell_type": "code",
   "execution_count": 21,
   "metadata": {},
   "outputs": [
    {
     "data": {
      "text/plain": [
       "{'clf__alpha': 0.1,\n",
       " 'clf__fit_prior': False,\n",
       " 'preprocessor__text__tfidf__use_idf': True,\n",
       " 'preprocessor__text__vect__ngram_range': (1, 2)}"
      ]
     },
     "execution_count": 21,
     "metadata": {},
     "output_type": "execute_result"
    }
   ],
   "source": [
    "gs_mnb.best_params_"
   ]
  },
  {
   "cell_type": "code",
   "execution_count": 22,
   "metadata": {},
   "outputs": [],
   "source": [
    "mnb_preprocessor = get_preprocessor(specify=True, ngram_range=(1, 2), use_idf=True)"
   ]
  },
  {
   "cell_type": "code",
   "execution_count": 24,
   "metadata": {
    "scrolled": true
   },
   "outputs": [
    {
     "data": {
      "text/plain": [
       "Pipeline(steps=[('preprocessor',\n",
       "                 ColumnTransformer(transformers=[('neg_scaler', MinMaxScaler(),\n",
       "                                                  ['neg']),\n",
       "                                                 ('neu_scaler', MinMaxScaler(),\n",
       "                                                  ['neu']),\n",
       "                                                 ('pos_scaler', MinMaxScaler(),\n",
       "                                                  ['pos']),\n",
       "                                                 ('compound_scaler',\n",
       "                                                  MinMaxScaler(),\n",
       "                                                  ['compound']),\n",
       "                                                 ('text',\n",
       "                                                  Pipeline(steps=[('vect',\n",
       "                                                                   CountVectorizer(ngram_range=(1,\n",
       "                                                                                                2))),\n",
       "                                                                  ('tfidf',\n",
       "                                                                   TfidfTransformer()),\n",
       "                                                                  ('norm',\n",
       "                                                                   Normalizer())]),\n",
       "                                                  'stemmed')])),\n",
       "                ('clf', MultinomialNB(alpha=0.1, fit_prior=False))])"
      ]
     },
     "execution_count": 24,
     "metadata": {},
     "output_type": "execute_result"
    }
   ],
   "source": [
    "mnb_classifier = MultinomialNB(alpha=0.1, fit_prior=False)\n",
    "\n",
    "mnb_retrain = get_pipeline(mnb_preprocessor, mnb_classifier)\n",
    "mnb_retrain.fit(train_X, train_y)"
   ]
  },
  {
   "cell_type": "code",
   "execution_count": 25,
   "metadata": {},
   "outputs": [
    {
     "data": {
      "text/plain": [
       "['./mnb_trained_model.joblib']"
      ]
     },
     "execution_count": 25,
     "metadata": {},
     "output_type": "execute_result"
    }
   ],
   "source": [
    "dump(mnb_retrain, './mnb_trained_model.joblib')"
   ]
  },
  {
   "cell_type": "code",
   "execution_count": 27,
   "metadata": {},
   "outputs": [
    {
     "data": {
      "text/plain": [
       "(0.9870765443676005, 0.8469953895444244)"
      ]
     },
     "execution_count": 27,
     "metadata": {},
     "output_type": "execute_result"
    }
   ],
   "source": [
    "mnb_retrain.score(train_X, train_y), mnb_retrain.score(test_X, test_y)"
   ]
  },
  {
   "cell_type": "markdown",
   "metadata": {},
   "source": [
    "### 3. Support Vector Machines\n",
    "\n",
    "Trained three different SVM classifiers:\n",
    "1. Used SGD with hinge loss and penalty l2.\n",
    "2. Used LinearSVC with penalty l2 and grid search.\n",
    "3. Used LinearSVC with penalty l1 and grid search (not including hinge loss)."
   ]
  },
  {
   "cell_type": "code",
   "execution_count": 50,
   "metadata": {},
   "outputs": [],
   "source": [
    "svm = load('./svm_clf.joblib')\n",
    "svc_l2 = load('./svc_clf_l2.joblib')\n",
    "svc_l1 = load('./svc_clf_l1.joblib')"
   ]
  },
  {
   "cell_type": "code",
   "execution_count": 51,
   "metadata": {},
   "outputs": [
    {
     "name": "stdout",
     "output_type": "stream",
     "text": [
      "SGD classifier: 0.7255499550658383 0.7214581542549034\n",
      "SVC L2: 0.9962587426249365 0.8566851605845119\n",
      "SVC L1: 0.5752647208220998 0.5741189341251856\n"
     ]
    }
   ],
   "source": [
    "print(\"SGD classifier:\", svm.score(train_X, train_y), svm.score(test_X, test_y))\n",
    "print(\"SVC L2:\", svc_l2.score(train_X, train_y), svc_l2.score(test_X, test_y))\n",
    "print(\"SVC L1:\", svc_l1.score(train_X, train_y), svc_l1.score(test_X, test_y))"
   ]
  },
  {
   "cell_type": "code",
   "execution_count": 52,
   "metadata": {},
   "outputs": [
    {
     "data": {
      "text/plain": [
       "{'clf__C': 1,\n",
       " 'clf__loss': 'squared_hinge',\n",
       " 'clf__max_iter': 10,\n",
       " 'preprocessor__text__tfidf__use_idf': True,\n",
       " 'preprocessor__text__vect__ngram_range': (1, 2)}"
      ]
     },
     "execution_count": 52,
     "metadata": {},
     "output_type": "execute_result"
    }
   ],
   "source": [
    "clf = svc_l2\n",
    "clf.best_params_"
   ]
  },
  {
   "cell_type": "code",
   "execution_count": 47,
   "metadata": {},
   "outputs": [],
   "source": [
    "svc_preprocessor = get_preprocessor(specify=True, ngram_range=(1, 2), use_idf=True)"
   ]
  },
  {
   "cell_type": "code",
   "execution_count": 54,
   "metadata": {},
   "outputs": [
    {
     "name": "stderr",
     "output_type": "stream",
     "text": [
      "c:\\users\\jaint\\anaconda3\\envs\\python37\\lib\\site-packages\\sklearn\\svm\\_base.py:986: ConvergenceWarning: Liblinear failed to converge, increase the number of iterations.\n",
      "  \"the number of iterations.\", ConvergenceWarning)\n"
     ]
    },
    {
     "data": {
      "text/plain": [
       "Pipeline(steps=[('preprocessor',\n",
       "                 ColumnTransformer(transformers=[('neg_scaler', MinMaxScaler(),\n",
       "                                                  ['neg']),\n",
       "                                                 ('neu_scaler', MinMaxScaler(),\n",
       "                                                  ['neu']),\n",
       "                                                 ('pos_scaler', MinMaxScaler(),\n",
       "                                                  ['pos']),\n",
       "                                                 ('compound_scaler',\n",
       "                                                  MinMaxScaler(),\n",
       "                                                  ['compound']),\n",
       "                                                 ('text',\n",
       "                                                  Pipeline(steps=[('vect',\n",
       "                                                                   CountVectorizer(ngram_range=(1,\n",
       "                                                                                                2))),\n",
       "                                                                  ('tfidf',\n",
       "                                                                   TfidfTransformer()),\n",
       "                                                                  ('norm',\n",
       "                                                                   Normalizer())]),\n",
       "                                                  'stemmed')])),\n",
       "                ('clf', LinearSVC(C=1, dual=False, max_iter=10))])"
      ]
     },
     "execution_count": 54,
     "metadata": {},
     "output_type": "execute_result"
    }
   ],
   "source": [
    "svc_classifier = LinearSVC(C=1, dual=False, max_iter=10, loss='squared_hinge', penalty='l2')\n",
    "\n",
    "svc_retrain = get_pipeline(svc_preprocessor, svc_classifier)\n",
    "svc_retrain.fit(train_X, train_y)"
   ]
  },
  {
   "cell_type": "code",
   "execution_count": 55,
   "metadata": {},
   "outputs": [
    {
     "data": {
      "text/plain": [
       "(0.9962587426249365, 0.8566851605845119)"
      ]
     },
     "execution_count": 55,
     "metadata": {},
     "output_type": "execute_result"
    }
   ],
   "source": [
    "svc_retrain.score(train_X, train_y), svc_retrain.score(test_X, test_y)"
   ]
  },
  {
   "cell_type": "code",
   "execution_count": 58,
   "metadata": {},
   "outputs": [
    {
     "data": {
      "text/plain": [
       "Pipeline(steps=[('preprocessor',\n",
       "                 ColumnTransformer(transformers=[('neg_scaler', MinMaxScaler(),\n",
       "                                                  ['neg']),\n",
       "                                                 ('neu_scaler', MinMaxScaler(),\n",
       "                                                  ['neu']),\n",
       "                                                 ('pos_scaler', MinMaxScaler(),\n",
       "                                                  ['pos']),\n",
       "                                                 ('compound_scaler',\n",
       "                                                  MinMaxScaler(),\n",
       "                                                  ['compound']),\n",
       "                                                 ('text',\n",
       "                                                  Pipeline(steps=[('vect',\n",
       "                                                                   CountVectorizer(ngram_range=(1,\n",
       "                                                                                                2))),\n",
       "                                                                  ('tfidf',\n",
       "                                                                   TfidfTransformer()),\n",
       "                                                                  ('norm',\n",
       "                                                                   Normalizer())]),\n",
       "                                                  'stemmed')])),\n",
       "                ('clf', LinearSVC(C=1, dual=False))])"
      ]
     },
     "execution_count": 58,
     "metadata": {},
     "output_type": "execute_result"
    }
   ],
   "source": [
    "svc_classifier_no_max = LinearSVC(C=1, dual=False, loss='squared_hinge', penalty='l2')\n",
    "\n",
    "svc_retrain_no_max = get_pipeline(svc_preprocessor, svc_classifier_no_max)\n",
    "svc_retrain_no_max.fit(train_X, train_y)"
   ]
  },
  {
   "cell_type": "code",
   "execution_count": 59,
   "metadata": {},
   "outputs": [
    {
     "data": {
      "text/plain": [
       "(0.9963173524010471, 0.85695866218645)"
      ]
     },
     "execution_count": 59,
     "metadata": {},
     "output_type": "execute_result"
    }
   ],
   "source": [
    "svc_retrain_no_max.score(train_X, train_y), svc_retrain_no_max.score(test_X, test_y)"
   ]
  },
  {
   "cell_type": "code",
   "execution_count": 60,
   "metadata": {},
   "outputs": [
    {
     "data": {
      "text/plain": [
       "['./svc_trained_model.joblib']"
      ]
     },
     "execution_count": 60,
     "metadata": {},
     "output_type": "execute_result"
    }
   ],
   "source": [
    "dump(svc_retrain_no_max, './svc_trained_model.joblib')"
   ]
  },
  {
   "cell_type": "markdown",
   "metadata": {},
   "source": [
    "# Notes\n",
    "\n",
    "RFC\n",
    "- training and test accuracy continue to increase up to max depth 100\n",
    "- training takes a few min for max depth 10, almost an hour for max depth 100\n",
    "\n",
    "GaussianNB\n",
    "- can't run because dense matrix takes up too much memory even with colab gpu\n",
    "\n",
    "MultinomialNB\n",
    "- best test accuracy at around 84%\n",
    "- works because we normalized/scaled (doesn't like negative feature values)\n",
    "\n",
    "SVM\n",
    "- best accuracy seems to be 72%\n",
    "- train and test accuracy closely mirror each other\n",
    "\n",
    "Linear SVC\n",
    "- got accuracy up to 84%\n",
    "\n",
    "Probabilities can be calculated with just SVC but inefficient (fit is at least $N^2$ - docs say impractical for more than tens of thousands of samples - and getting probabilities uses 5-fold cross validation during fit). \n",
    "\n",
    "SVC \n",
    "- convergence warning at max_iter 70, kernel rbf, C = 0.5"
   ]
  },
  {
   "cell_type": "code",
   "execution_count": 29,
   "metadata": {},
   "outputs": [
    {
     "data": {
      "text/plain": [
       "range(0, 5)"
      ]
     },
     "execution_count": 29,
     "metadata": {},
     "output_type": "execute_result"
    }
   ],
   "source": [
    "range(5)"
   ]
  },
  {
   "cell_type": "code",
   "execution_count": 33,
   "metadata": {},
   "outputs": [],
   "source": [
    "import numpy as np\n",
    "a = np.asarray([1, 2, 3, 4, 5])"
   ]
  },
  {
   "cell_type": "code",
   "execution_count": 34,
   "metadata": {},
   "outputs": [
    {
     "data": {
      "text/plain": [
       "array([1, 2, 3, 4, 5])"
      ]
     },
     "execution_count": 34,
     "metadata": {},
     "output_type": "execute_result"
    }
   ],
   "source": [
    "a[range(len(a))]"
   ]
  },
  {
   "cell_type": "code",
   "execution_count": 35,
   "metadata": {},
   "outputs": [
    {
     "data": {
      "text/plain": [
       "array([1, 2, 3, 4, 5])"
      ]
     },
     "execution_count": 35,
     "metadata": {},
     "output_type": "execute_result"
    }
   ],
   "source": [
    "a[:]"
   ]
  },
  {
   "cell_type": "code",
   "execution_count": 36,
   "metadata": {},
   "outputs": [],
   "source": [
    "dim = 5"
   ]
  },
  {
   "cell_type": "code",
   "execution_count": 37,
   "metadata": {},
   "outputs": [
    {
     "data": {
      "text/plain": [
       "array([1, 2, 3, 4, 5])"
      ]
     },
     "execution_count": 37,
     "metadata": {},
     "output_type": "execute_result"
    }
   ],
   "source": [
    "a[:dim]"
   ]
  },
  {
   "cell_type": "code",
   "execution_count": 38,
   "metadata": {},
   "outputs": [
    {
     "data": {
      "text/plain": [
       "array([], dtype=int32)"
      ]
     },
     "execution_count": 38,
     "metadata": {},
     "output_type": "execute_result"
    }
   ],
   "source": [
    "a[dim:]"
   ]
  },
  {
   "cell_type": "code",
   "execution_count": null,
   "metadata": {},
   "outputs": [],
   "source": []
  }
 ],
 "metadata": {
  "kernelspec": {
   "display_name": "Python 3",
   "language": "python",
   "name": "python3"
  },
  "language_info": {
   "codemirror_mode": {
    "name": "ipython",
    "version": 3
   },
   "file_extension": ".py",
   "mimetype": "text/x-python",
   "name": "python",
   "nbconvert_exporter": "python",
   "pygments_lexer": "ipython3",
   "version": "3.7.0"
  }
 },
 "nbformat": 4,
 "nbformat_minor": 4
}
