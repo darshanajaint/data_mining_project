{
 "cells": [
  {
   "cell_type": "code",
   "execution_count": 1,
   "metadata": {},
   "outputs": [],
   "source": [
    "import pandas as pd\n",
    "from sklearn.model_selection import StratifiedShuffleSplit, train_test_split"
   ]
  },
  {
   "cell_type": "code",
   "execution_count": 2,
   "metadata": {},
   "outputs": [],
   "source": [
    "data_set = pd.read_csv('tweets_with_sentiment.csv')"
   ]
  },
  {
   "cell_type": "code",
   "execution_count": 3,
   "metadata": {},
   "outputs": [
    {
     "data": {
      "text/html": [
       "<div>\n",
       "<style scoped>\n",
       "    .dataframe tbody tr th:only-of-type {\n",
       "        vertical-align: middle;\n",
       "    }\n",
       "\n",
       "    .dataframe tbody tr th {\n",
       "        vertical-align: top;\n",
       "    }\n",
       "\n",
       "    .dataframe thead th {\n",
       "        text-align: right;\n",
       "    }\n",
       "</style>\n",
       "<table border=\"1\" class=\"dataframe\">\n",
       "  <thead>\n",
       "    <tr style=\"text-align: right;\">\n",
       "      <th></th>\n",
       "      <th>State</th>\n",
       "      <th>Senator</th>\n",
       "      <th>Party</th>\n",
       "      <th>Multiple</th>\n",
       "      <th>Twitter Handle</th>\n",
       "      <th>Twitter Link</th>\n",
       "      <th>date</th>\n",
       "      <th>tweet</th>\n",
       "      <th>hashtags</th>\n",
       "      <th>link</th>\n",
       "      <th>urls</th>\n",
       "      <th>tidy_tweet</th>\n",
       "      <th>tokens</th>\n",
       "      <th>stemmed</th>\n",
       "      <th>neg</th>\n",
       "      <th>neu</th>\n",
       "      <th>pos</th>\n",
       "      <th>compound</th>\n",
       "    </tr>\n",
       "  </thead>\n",
       "  <tbody>\n",
       "    <tr>\n",
       "      <th>0</th>\n",
       "      <td>Alabama</td>\n",
       "      <td>Richard Shelby</td>\n",
       "      <td>Republican</td>\n",
       "      <td>0</td>\n",
       "      <td>SenShelby</td>\n",
       "      <td>https://twitter.com/SenShelby</td>\n",
       "      <td>2021-03-10 10:54:50</td>\n",
       "      <td>I look forward to working with the Consortium,...</td>\n",
       "      <td>[]</td>\n",
       "      <td>https://twitter.com/SenShelby/status/136967813...</td>\n",
       "      <td>[]</td>\n",
       "      <td>look forward working with the consortium  incl...</td>\n",
       "      <td>['look', 'forward', 'working', 'consortium', '...</td>\n",
       "      <td>look forward work consortium includ ensur inno...</td>\n",
       "      <td>0.000</td>\n",
       "      <td>1.000</td>\n",
       "      <td>0.000</td>\n",
       "      <td>0.0000</td>\n",
       "    </tr>\n",
       "    <tr>\n",
       "      <th>1</th>\n",
       "      <td>Alabama</td>\n",
       "      <td>Richard Shelby</td>\n",
       "      <td>Republican</td>\n",
       "      <td>0</td>\n",
       "      <td>SenShelby</td>\n",
       "      <td>https://twitter.com/SenShelby</td>\n",
       "      <td>2021-03-10 10:54:13</td>\n",
       "      <td>Pleased to announce that an AL Consortium has ...</td>\n",
       "      <td>[]</td>\n",
       "      <td>https://twitter.com/SenShelby/status/136967798...</td>\n",
       "      <td>['https://www.shelby.senate.gov/public/index.c...</td>\n",
       "      <td>pleased announce that consortium has been gran...</td>\n",
       "      <td>['pleased', 'announce', 'consortium', 'granted...</td>\n",
       "      <td>pleas announc consortium grant rural water was...</td>\n",
       "      <td>0.000</td>\n",
       "      <td>0.621</td>\n",
       "      <td>0.379</td>\n",
       "      <td>0.8750</td>\n",
       "    </tr>\n",
       "    <tr>\n",
       "      <th>2</th>\n",
       "      <td>Alabama</td>\n",
       "      <td>Richard Shelby</td>\n",
       "      <td>Republican</td>\n",
       "      <td>0</td>\n",
       "      <td>SenShelby</td>\n",
       "      <td>https://twitter.com/SenShelby</td>\n",
       "      <td>2021-03-09 17:06:05</td>\n",
       "      <td>Pleased with the progress at the Port of Mobil...</td>\n",
       "      <td>['alabama']</td>\n",
       "      <td>https://twitter.com/SenShelby/status/136940917...</td>\n",
       "      <td>[]</td>\n",
       "      <td>pleased with the progress the port mobile  the...</td>\n",
       "      <td>['pleased', 'progress', 'port', 'mobile', 'dee...</td>\n",
       "      <td>pleas progress port mobil deepen widen mobil h...</td>\n",
       "      <td>0.000</td>\n",
       "      <td>0.865</td>\n",
       "      <td>0.135</td>\n",
       "      <td>0.4215</td>\n",
       "    </tr>\n",
       "    <tr>\n",
       "      <th>3</th>\n",
       "      <td>Alabama</td>\n",
       "      <td>Richard Shelby</td>\n",
       "      <td>Republican</td>\n",
       "      <td>0</td>\n",
       "      <td>SenShelby</td>\n",
       "      <td>https://twitter.com/SenShelby</td>\n",
       "      <td>2021-03-06 12:57:31</td>\n",
       "      <td>I am disappointed that we were blocked at ever...</td>\n",
       "      <td>[]</td>\n",
       "      <td>https://twitter.com/SenShelby/status/136825946...</td>\n",
       "      <td>['https://www.shelby.senate.gov/public/index.c...</td>\n",
       "      <td>disappointed that were blocked every turn from...</td>\n",
       "      <td>['disappointed', 'blocked', 'every', 'turn', '...</td>\n",
       "      <td>disappoint block everi turn engag pass real co...</td>\n",
       "      <td>0.222</td>\n",
       "      <td>0.556</td>\n",
       "      <td>0.222</td>\n",
       "      <td>0.0000</td>\n",
       "    </tr>\n",
       "    <tr>\n",
       "      <th>4</th>\n",
       "      <td>Alabama</td>\n",
       "      <td>Richard Shelby</td>\n",
       "      <td>Republican</td>\n",
       "      <td>0</td>\n",
       "      <td>SenShelby</td>\n",
       "      <td>https://twitter.com/SenShelby</td>\n",
       "      <td>2021-03-06 12:56:38</td>\n",
       "      <td>The bill does nothing to get kids back in clas...</td>\n",
       "      <td>[]</td>\n",
       "      <td>https://twitter.com/SenShelby/status/136825924...</td>\n",
       "      <td>[]</td>\n",
       "      <td>the bill does nothing get kids back classrooms...</td>\n",
       "      <td>['bill', 'nothing', 'get', 'kids', 'back', 'cl...</td>\n",
       "      <td>bill noth get kid back classroom instead inclu...</td>\n",
       "      <td>0.085</td>\n",
       "      <td>0.915</td>\n",
       "      <td>0.000</td>\n",
       "      <td>-0.1027</td>\n",
       "    </tr>\n",
       "  </tbody>\n",
       "</table>\n",
       "</div>"
      ],
      "text/plain": [
       "     State         Senator       Party  Multiple Twitter Handle  \\\n",
       "0  Alabama  Richard Shelby  Republican         0      SenShelby   \n",
       "1  Alabama  Richard Shelby  Republican         0      SenShelby   \n",
       "2  Alabama  Richard Shelby  Republican         0      SenShelby   \n",
       "3  Alabama  Richard Shelby  Republican         0      SenShelby   \n",
       "4  Alabama  Richard Shelby  Republican         0      SenShelby   \n",
       "\n",
       "                    Twitter Link                 date  \\\n",
       "0  https://twitter.com/SenShelby  2021-03-10 10:54:50   \n",
       "1  https://twitter.com/SenShelby  2021-03-10 10:54:13   \n",
       "2  https://twitter.com/SenShelby  2021-03-09 17:06:05   \n",
       "3  https://twitter.com/SenShelby  2021-03-06 12:57:31   \n",
       "4  https://twitter.com/SenShelby  2021-03-06 12:56:38   \n",
       "\n",
       "                                               tweet     hashtags  \\\n",
       "0  I look forward to working with the Consortium,...           []   \n",
       "1  Pleased to announce that an AL Consortium has ...           []   \n",
       "2  Pleased with the progress at the Port of Mobil...  ['alabama']   \n",
       "3  I am disappointed that we were blocked at ever...           []   \n",
       "4  The bill does nothing to get kids back in clas...           []   \n",
       "\n",
       "                                                link  \\\n",
       "0  https://twitter.com/SenShelby/status/136967813...   \n",
       "1  https://twitter.com/SenShelby/status/136967798...   \n",
       "2  https://twitter.com/SenShelby/status/136940917...   \n",
       "3  https://twitter.com/SenShelby/status/136825946...   \n",
       "4  https://twitter.com/SenShelby/status/136825924...   \n",
       "\n",
       "                                                urls  \\\n",
       "0                                                 []   \n",
       "1  ['https://www.shelby.senate.gov/public/index.c...   \n",
       "2                                                 []   \n",
       "3  ['https://www.shelby.senate.gov/public/index.c...   \n",
       "4                                                 []   \n",
       "\n",
       "                                          tidy_tweet  \\\n",
       "0  look forward working with the consortium  incl...   \n",
       "1  pleased announce that consortium has been gran...   \n",
       "2  pleased with the progress the port mobile  the...   \n",
       "3  disappointed that were blocked every turn from...   \n",
       "4  the bill does nothing get kids back classrooms...   \n",
       "\n",
       "                                              tokens  \\\n",
       "0  ['look', 'forward', 'working', 'consortium', '...   \n",
       "1  ['pleased', 'announce', 'consortium', 'granted...   \n",
       "2  ['pleased', 'progress', 'port', 'mobile', 'dee...   \n",
       "3  ['disappointed', 'blocked', 'every', 'turn', '...   \n",
       "4  ['bill', 'nothing', 'get', 'kids', 'back', 'cl...   \n",
       "\n",
       "                                             stemmed    neg    neu    pos  \\\n",
       "0  look forward work consortium includ ensur inno...  0.000  1.000  0.000   \n",
       "1  pleas announc consortium grant rural water was...  0.000  0.621  0.379   \n",
       "2  pleas progress port mobil deepen widen mobil h...  0.000  0.865  0.135   \n",
       "3  disappoint block everi turn engag pass real co...  0.222  0.556  0.222   \n",
       "4  bill noth get kid back classroom instead inclu...  0.085  0.915  0.000   \n",
       "\n",
       "   compound  \n",
       "0    0.0000  \n",
       "1    0.8750  \n",
       "2    0.4215  \n",
       "3    0.0000  \n",
       "4   -0.1027  "
      ]
     },
     "execution_count": 3,
     "metadata": {},
     "output_type": "execute_result"
    }
   ],
   "source": [
    "data_set.head()"
   ]
  },
  {
   "cell_type": "code",
   "execution_count": 4,
   "metadata": {
    "scrolled": true
   },
   "outputs": [
    {
     "data": {
      "text/plain": [
       "Democrat       70672\n",
       "Republican     54002\n",
       "Independent     3292\n",
       "Name: Party, dtype: int64"
      ]
     },
     "execution_count": 4,
     "metadata": {},
     "output_type": "execute_result"
    }
   ],
   "source": [
    "data_set['Party'].value_counts()"
   ]
  },
  {
   "cell_type": "markdown",
   "metadata": {},
   "source": [
    "#### Using train_test_split (90, 10)"
   ]
  },
  {
   "cell_type": "code",
   "execution_count": 29,
   "metadata": {},
   "outputs": [],
   "source": [
    "train_A, test_A = train_test_split(data_set, train_size=0.9, stratify=data_set['Party'])"
   ]
  },
  {
   "cell_type": "markdown",
   "metadata": {},
   "source": [
    "#### Using StratifiedShuffleSplit (90, 10)"
   ]
  },
  {
   "cell_type": "code",
   "execution_count": 30,
   "metadata": {},
   "outputs": [],
   "source": [
    "clf = StratifiedShuffleSplit(n_splits=1, train_size=0.9)\n",
    "for train_i, test_i in clf.split(data_set, data_set['Party']):\n",
    "    train_B = data_set.iloc[train_i]\n",
    "    test_B = data_set.iloc[test_i]"
   ]
  },
  {
   "cell_type": "code",
   "execution_count": 31,
   "metadata": {},
   "outputs": [
    {
     "data": {
      "text/plain": [
       "Democrat       63604\n",
       "Republican     48602\n",
       "Independent     2963\n",
       "Name: Party, dtype: int64"
      ]
     },
     "execution_count": 31,
     "metadata": {},
     "output_type": "execute_result"
    }
   ],
   "source": [
    "train_B['Party'].value_counts()"
   ]
  },
  {
   "cell_type": "code",
   "execution_count": 32,
   "metadata": {
    "scrolled": true
   },
   "outputs": [
    {
     "data": {
      "text/plain": [
       "Democrat       63604\n",
       "Republican     48602\n",
       "Independent     2963\n",
       "Name: Party, dtype: int64"
      ]
     },
     "execution_count": 32,
     "metadata": {},
     "output_type": "execute_result"
    }
   ],
   "source": [
    "train_A['Party'].value_counts()"
   ]
  },
  {
   "cell_type": "code",
   "execution_count": 28,
   "metadata": {},
   "outputs": [],
   "source": [
    "train = train_A\n",
    "test = test_A"
   ]
  },
  {
   "cell_type": "code",
   "execution_count": 33,
   "metadata": {},
   "outputs": [],
   "source": [
    "train.to_csv('train_data.csv', index=False)"
   ]
  },
  {
   "cell_type": "code",
   "execution_count": 34,
   "metadata": {},
   "outputs": [],
   "source": [
    "test.to_csv('test_data.csv', index=False)"
   ]
  },
  {
   "cell_type": "code",
   "execution_count": null,
   "metadata": {},
   "outputs": [],
   "source": []
  }
 ],
 "metadata": {
  "kernelspec": {
   "display_name": "Python 3",
   "language": "python",
   "name": "python3"
  },
  "language_info": {
   "codemirror_mode": {
    "name": "ipython",
    "version": 3
   },
   "file_extension": ".py",
   "mimetype": "text/x-python",
   "name": "python",
   "nbconvert_exporter": "python",
   "pygments_lexer": "ipython3",
   "version": "3.7.7"
  }
 },
 "nbformat": 4,
 "nbformat_minor": 4
}
